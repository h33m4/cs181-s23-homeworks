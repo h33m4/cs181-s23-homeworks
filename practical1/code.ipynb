{
 "cells": [
  {
   "cell_type": "markdown",
   "metadata": {},
   "source": [
    "# CS181 Practical I"
   ]
  },
  {
   "cell_type": "code",
   "execution_count": 5,
   "metadata": {},
   "outputs": [],
   "source": [
    "import numpy as np\n",
    "import matplotlib.pyplot as plt"
   ]
  },
  {
   "cell_type": "markdown",
   "metadata": {},
   "source": [
    "## Load the data files into local memory from the GCP bucket."
   ]
  },
  {
   "cell_type": "code",
   "execution_count": 23,
   "metadata": {},
   "outputs": [
    {
     "name": "stdout",
     "output_type": "stream",
     "text": [
      "Copying gs://cs181_practical_data/Xtrain_amp.npy...\n",
      "If you experience problems with multiprocessing on MacOS, they might be related to https://bugs.python.org/issue33725. You can disable multiprocessing by editing your .boto config or by adding the following flag to your command: `-o \"GSUtil:parallel_process_count=1\"`. Note that multithreading is still available even if you disable multiprocessing.\n",
      "\n",
      "/ [1 files][934.2 MiB/934.2 MiB]   35.9 MiB/s                                   \n",
      "Operation completed over 1 objects/934.2 MiB.                                    \n",
      "Copying gs://cs181_practical_data/ytrain_amp.npy...\n",
      "/ [1 files][ 43.5 KiB/ 43.5 KiB]                                                \n",
      "Operation completed over 1 objects/43.5 KiB.                                     \n",
      "Copying gs://cs181_practical_data/Xtest_amp.npy...\n",
      "If you experience problems with multiprocessing on MacOS, they might be related to https://bugs.python.org/issue33725. You can disable multiprocessing by editing your .boto config or by adding the following flag to your command: `-o \"GSUtil:parallel_process_count=1\"`. Note that multithreading is still available even if you disable multiprocessing.\n",
      "\n",
      "Resuming download for ./Xtest_amp.npy component 1\n",
      "Resuming download for ./Xtest_amp.npy component 0\n",
      "\\ [1 files][369.6 MiB/369.6 MiB]                                                \n",
      "Operation completed over 1 objects/369.6 MiB.                                    \n",
      "Copying gs://cs181_practical_data/ytest_amp.npy...\n",
      "/ [1 files][ 17.3 KiB/ 17.3 KiB]                                                \n",
      "Operation completed over 1 objects/17.3 KiB.                                     \n",
      "Copying gs://cs181_practical_data/Xtrain_mel.npy...\n",
      "If you experience problems with multiprocessing on MacOS, they might be related to https://bugs.python.org/issue33725. You can disable multiprocessing by editing your .boto config or by adding the following flag to your command: `-o \"GSUtil:parallel_process_count=1\"`. Note that multithreading is still available even if you disable multiprocessing.\n",
      "\n",
      "/ [1 files][235.9 MiB/235.9 MiB]                                                \n",
      "Operation completed over 1 objects/235.9 MiB.                                    \n",
      "Copying gs://cs181_practical_data/ytrain_mel.npy...\n",
      "/ [1 files][ 43.5 KiB/ 43.5 KiB]                                                \n",
      "Operation completed over 1 objects/43.5 KiB.                                     \n",
      "Copying gs://cs181_practical_data/Xtest_mel.npy...\n",
      "- [1 files][ 93.3 MiB/ 93.3 MiB]                                                \n",
      "Operation completed over 1 objects/93.3 MiB.                                     \n",
      "Copying gs://cs181_practical_data/ytest_mel.npy...\n",
      "/ [1 files][ 17.3 KiB/ 17.3 KiB]                                                \n",
      "Operation completed over 1 objects/17.3 KiB.                                     \n"
     ]
    }
   ],
   "source": [
    "!gsutil cp gs://cs181_practical_data/Xtrain_amp.npy ./\n",
    "!gsutil cp gs://cs181_practical_data/ytrain_amp.npy ./\n",
    "\n",
    "!gsutil cp gs://cs181_practical_data/Xtest_amp.npy ./\n",
    "!gsutil cp gs://cs181_practical_data/ytest_amp.npy ./\n",
    "\n",
    "!gsutil cp gs://cs181_practical_data/Xtrain_mel.npy ./\n",
    "!gsutil cp gs://cs181_practical_data/ytrain_mel.npy ./\n",
    "\n",
    "!gsutil cp gs://cs181_practical_data/Xtest_mel.npy ./\n",
    "!gsutil cp gs://cs181_practical_data/ytest_mel.npy ./"
   ]
  },
  {
   "cell_type": "markdown",
   "metadata": {},
   "source": []
  },
  {
   "cell_type": "markdown",
   "metadata": {},
   "source": [
    "## Imports"
   ]
  },
  {
   "cell_type": "code",
   "execution_count": 3,
   "metadata": {},
   "outputs": [],
   "source": [
    "from sklearn.linear_model import LogisticRegression\n",
    "from sklearn.metrics import confusion_matrix\n",
    "from sklearn.metrics import precision_recall_fscore_support\n",
    "from sklearn.ensemble import RandomForestClassifier\n",
    "from sklearn.neighbors import KNeighborsClassifier\n",
    "from sklearn.model_selection import GridSearchCV\n",
    "from sklearn.model_selection import RandomizedSearchCV\n",
    "\n",
    "import librosa\n",
    "\n",
    "from torch import nn\n",
    "from torchsummary import summary\n",
    "\n",
    "\n"
   ]
  },
  {
   "cell_type": "markdown",
   "metadata": {},
   "source": [
    "### Load raw amplitude data as a numpy object."
   ]
  },
  {
   "cell_type": "code",
   "execution_count": 6,
   "metadata": {},
   "outputs": [],
   "source": [
    "# Load train data\n",
    "\n",
    "X_amp_train = np.load(\"Xtrain_amp.npy\")\n",
    "y_amp_train = np.load(\"ytrain_amp.npy\")"
   ]
  },
  {
   "cell_type": "code",
   "execution_count": 7,
   "metadata": {},
   "outputs": [],
   "source": [
    "# Load test data\n",
    "\n",
    "X_amp_test = np.load(\"Xtest_amp.npy\")\n",
    "y_amp_test = np.load(\"ytest_amp.npy\")"
   ]
  },
  {
   "cell_type": "markdown",
   "metadata": {},
   "source": [
    "### Load Mel spectrogram data as a numpy object."
   ]
  },
  {
   "cell_type": "code",
   "execution_count": 8,
   "metadata": {},
   "outputs": [],
   "source": [
    "# Load train data\n",
    "\n",
    "X_mel_train = np.load(\"Xtrain_mel.npy\")\n",
    "y_mel_train = np.load(\"ytrain_mel.npy\")"
   ]
  },
  {
   "cell_type": "code",
   "execution_count": 9,
   "metadata": {},
   "outputs": [
    {
     "data": {
      "text/plain": [
       "(5553, 128, 87)"
      ]
     },
     "execution_count": 9,
     "metadata": {},
     "output_type": "execute_result"
    }
   ],
   "source": [
    "X_mel_train.shape"
   ]
  },
  {
   "cell_type": "code",
   "execution_count": 10,
   "metadata": {},
   "outputs": [
    {
     "data": {
      "text/plain": [
       "(5553, 11136)"
      ]
     },
     "execution_count": 10,
     "metadata": {},
     "output_type": "execute_result"
    }
   ],
   "source": [
    "# Flatten X_mel_train's spectrogram features\n",
    "X_mel_train_flat = X_mel_train.reshape(X_mel_train.shape[0], -1)\n",
    "X_mel_train_flat.shape"
   ]
  },
  {
   "cell_type": "code",
   "execution_count": 11,
   "metadata": {},
   "outputs": [],
   "source": [
    "# Load test data\n",
    "\n",
    "X_mel_test = np.load(\"Xtest_mel.npy\")\n",
    "y_mel_test = np.load(\"ytest_mel.npy\")"
   ]
  },
  {
   "cell_type": "code",
   "execution_count": 12,
   "metadata": {},
   "outputs": [
    {
     "data": {
      "text/plain": [
       "(2197, 128, 87)"
      ]
     },
     "execution_count": 12,
     "metadata": {},
     "output_type": "execute_result"
    }
   ],
   "source": [
    "X_mel_test.shape"
   ]
  },
  {
   "cell_type": "code",
   "execution_count": 13,
   "metadata": {},
   "outputs": [
    {
     "data": {
      "text/plain": [
       "(2197, 11136)"
      ]
     },
     "execution_count": 13,
     "metadata": {},
     "output_type": "execute_result"
    }
   ],
   "source": [
    "# Flatten X_mel_test's spectrogram features\n",
    "X_mel_test_flat = X_mel_test.reshape(X_mel_test.shape[0], -1)\n",
    "X_mel_test_flat.shape"
   ]
  },
  {
   "cell_type": "markdown",
   "metadata": {},
   "source": [
    "## Metrics"
   ]
  },
  {
   "cell_type": "code",
   "execution_count": 14,
   "metadata": {},
   "outputs": [],
   "source": [
    "'''\n",
    "Calculate overall accuracy, and per-class accuracy\n",
    "'''\n",
    "def calc_metrics(model, is_raw_amp=True):\n",
    "    if is_raw_amp:\n",
    "        X_test = X_amp_test\n",
    "        y_test = y_amp_test\n",
    "        X_train = X_amp_train\n",
    "        y_train = y_amp_train\n",
    "    else:\n",
    "        X_test = X_mel_test_flat\n",
    "        y_test = y_mel_test\n",
    "        X_train = X_mel_train_flat\n",
    "        y_train = y_mel_train\n",
    "\n",
    "    # Calculate overall accuracy\n",
    "    test_acc_overall = model.score(X_test, y_test)\n",
    "    train_acc_overall = model.score(X_train, y_train)\n",
    "\n",
    "    # Calculate per-class accuracy\n",
    "    y_pred_test = model.predict(X_test)\n",
    "    y_pred_train = model.predict(X_train)\n",
    "\n",
    "   # Calculate accuracy for each dataset using confusion matrix\n",
    "    cm_test = confusion_matrix(y_test, y_pred_test)\n",
    "    cm_train = confusion_matrix(y_train, y_pred_train)\n",
    "\n",
    "    test_acc_per_class = cm_test.diagonal()/cm_test.sum(axis=1)\n",
    "    train_acc_per_class = cm_train.diagonal()/cm_train.sum(axis=1)\n",
    "\n",
    "    classes = ['air_conditioner', 'car_horn', 'children_playing', 'dog_bark', 'drilling', 'engine_idling', 'gun_shot', 'jackhammer', 'siren', 'street_music']\n",
    "\n",
    "    # Display metrics using classes as labels\n",
    "\n",
    "    print(\"Overall accuracy on test set: {0:.2%}\".format(test_acc_overall))\n",
    "    print(\"Overall accuracy on train set: {0:.2%}\".format(train_acc_overall))\n",
    "\n",
    "    print(\"\\nPer-class accuracy on test set:\")\n",
    "    for i in range(len(classes)):\n",
    "        print(\"{0}: {1:.2%}\".format(classes[i], test_acc_per_class[i]))\n",
    "\n",
    "    print(\"\\nPer-class accuracy on train set:\")\n",
    "    for i in range(len(classes)):\n",
    "        print(\"{0}: {1:.2%}\".format(classes[i], train_acc_per_class[i]))\n",
    "        \n"
   ]
  },
  {
   "cell_type": "markdown",
   "metadata": {},
   "source": [
    "## Part A: Feature Engineering and Baseline Models"
   ]
  },
  {
   "cell_type": "markdown",
   "metadata": {},
   "source": [
    "### Raw Amplitude features"
   ]
  },
  {
   "cell_type": "code",
   "execution_count": 15,
   "metadata": {},
   "outputs": [
    {
     "data": {
      "text/html": [
       "<style>#sk-container-id-2 {color: black;background-color: white;}#sk-container-id-2 pre{padding: 0;}#sk-container-id-2 div.sk-toggleable {background-color: white;}#sk-container-id-2 label.sk-toggleable__label {cursor: pointer;display: block;width: 100%;margin-bottom: 0;padding: 0.3em;box-sizing: border-box;text-align: center;}#sk-container-id-2 label.sk-toggleable__label-arrow:before {content: \"▸\";float: left;margin-right: 0.25em;color: #696969;}#sk-container-id-2 label.sk-toggleable__label-arrow:hover:before {color: black;}#sk-container-id-2 div.sk-estimator:hover label.sk-toggleable__label-arrow:before {color: black;}#sk-container-id-2 div.sk-toggleable__content {max-height: 0;max-width: 0;overflow: hidden;text-align: left;background-color: #f0f8ff;}#sk-container-id-2 div.sk-toggleable__content pre {margin: 0.2em;color: black;border-radius: 0.25em;background-color: #f0f8ff;}#sk-container-id-2 input.sk-toggleable__control:checked~div.sk-toggleable__content {max-height: 200px;max-width: 100%;overflow: auto;}#sk-container-id-2 input.sk-toggleable__control:checked~label.sk-toggleable__label-arrow:before {content: \"▾\";}#sk-container-id-2 div.sk-estimator input.sk-toggleable__control:checked~label.sk-toggleable__label {background-color: #d4ebff;}#sk-container-id-2 div.sk-label input.sk-toggleable__control:checked~label.sk-toggleable__label {background-color: #d4ebff;}#sk-container-id-2 input.sk-hidden--visually {border: 0;clip: rect(1px 1px 1px 1px);clip: rect(1px, 1px, 1px, 1px);height: 1px;margin: -1px;overflow: hidden;padding: 0;position: absolute;width: 1px;}#sk-container-id-2 div.sk-estimator {font-family: monospace;background-color: #f0f8ff;border: 1px dotted black;border-radius: 0.25em;box-sizing: border-box;margin-bottom: 0.5em;}#sk-container-id-2 div.sk-estimator:hover {background-color: #d4ebff;}#sk-container-id-2 div.sk-parallel-item::after {content: \"\";width: 100%;border-bottom: 1px solid gray;flex-grow: 1;}#sk-container-id-2 div.sk-label:hover label.sk-toggleable__label {background-color: #d4ebff;}#sk-container-id-2 div.sk-serial::before {content: \"\";position: absolute;border-left: 1px solid gray;box-sizing: border-box;top: 0;bottom: 0;left: 50%;z-index: 0;}#sk-container-id-2 div.sk-serial {display: flex;flex-direction: column;align-items: center;background-color: white;padding-right: 0.2em;padding-left: 0.2em;position: relative;}#sk-container-id-2 div.sk-item {position: relative;z-index: 1;}#sk-container-id-2 div.sk-parallel {display: flex;align-items: stretch;justify-content: center;background-color: white;position: relative;}#sk-container-id-2 div.sk-item::before, #sk-container-id-2 div.sk-parallel-item::before {content: \"\";position: absolute;border-left: 1px solid gray;box-sizing: border-box;top: 0;bottom: 0;left: 50%;z-index: -1;}#sk-container-id-2 div.sk-parallel-item {display: flex;flex-direction: column;z-index: 1;position: relative;background-color: white;}#sk-container-id-2 div.sk-parallel-item:first-child::after {align-self: flex-end;width: 50%;}#sk-container-id-2 div.sk-parallel-item:last-child::after {align-self: flex-start;width: 50%;}#sk-container-id-2 div.sk-parallel-item:only-child::after {width: 0;}#sk-container-id-2 div.sk-dashed-wrapped {border: 1px dashed gray;margin: 0 0.4em 0.5em 0.4em;box-sizing: border-box;padding-bottom: 0.4em;background-color: white;}#sk-container-id-2 div.sk-label label {font-family: monospace;font-weight: bold;display: inline-block;line-height: 1.2em;}#sk-container-id-2 div.sk-label-container {text-align: center;}#sk-container-id-2 div.sk-container {/* jupyter's `normalize.less` sets `[hidden] { display: none; }` but bootstrap.min.css set `[hidden] { display: none !important; }` so we also need the `!important` here to be able to override the default hidden behavior on the sphinx rendered scikit-learn.org. See: https://github.com/scikit-learn/scikit-learn/issues/21755 */display: inline-block !important;position: relative;}#sk-container-id-2 div.sk-text-repr-fallback {display: none;}</style><div id=\"sk-container-id-2\" class=\"sk-top-container\"><div class=\"sk-text-repr-fallback\"><pre>LogisticRegression(max_iter=1000)</pre><b>In a Jupyter environment, please rerun this cell to show the HTML representation or trust the notebook. <br />On GitHub, the HTML representation is unable to render, please try loading this page with nbviewer.org.</b></div><div class=\"sk-container\" hidden><div class=\"sk-item\"><div class=\"sk-estimator sk-toggleable\"><input class=\"sk-toggleable__control sk-hidden--visually\" id=\"sk-estimator-id-2\" type=\"checkbox\" checked><label for=\"sk-estimator-id-2\" class=\"sk-toggleable__label sk-toggleable__label-arrow\">LogisticRegression</label><div class=\"sk-toggleable__content\"><pre>LogisticRegression(max_iter=1000)</pre></div></div></div></div></div>"
      ],
      "text/plain": [
       "LogisticRegression(max_iter=1000)"
      ]
     },
     "execution_count": 15,
     "metadata": {},
     "output_type": "execute_result"
    }
   ],
   "source": [
    "lrc_raw_2 = LogisticRegression(penalty='l2', tol = 10**-4, max_iter=1000)\n",
    "lrc_raw_2.fit(X_amp_train, y_amp_train)"
   ]
  },
  {
   "cell_type": "code",
   "execution_count": 13,
   "metadata": {},
   "outputs": [
    {
     "data": {
      "text/html": [
       "<style>#sk-container-id-1 {color: black;background-color: white;}#sk-container-id-1 pre{padding: 0;}#sk-container-id-1 div.sk-toggleable {background-color: white;}#sk-container-id-1 label.sk-toggleable__label {cursor: pointer;display: block;width: 100%;margin-bottom: 0;padding: 0.3em;box-sizing: border-box;text-align: center;}#sk-container-id-1 label.sk-toggleable__label-arrow:before {content: \"▸\";float: left;margin-right: 0.25em;color: #696969;}#sk-container-id-1 label.sk-toggleable__label-arrow:hover:before {color: black;}#sk-container-id-1 div.sk-estimator:hover label.sk-toggleable__label-arrow:before {color: black;}#sk-container-id-1 div.sk-toggleable__content {max-height: 0;max-width: 0;overflow: hidden;text-align: left;background-color: #f0f8ff;}#sk-container-id-1 div.sk-toggleable__content pre {margin: 0.2em;color: black;border-radius: 0.25em;background-color: #f0f8ff;}#sk-container-id-1 input.sk-toggleable__control:checked~div.sk-toggleable__content {max-height: 200px;max-width: 100%;overflow: auto;}#sk-container-id-1 input.sk-toggleable__control:checked~label.sk-toggleable__label-arrow:before {content: \"▾\";}#sk-container-id-1 div.sk-estimator input.sk-toggleable__control:checked~label.sk-toggleable__label {background-color: #d4ebff;}#sk-container-id-1 div.sk-label input.sk-toggleable__control:checked~label.sk-toggleable__label {background-color: #d4ebff;}#sk-container-id-1 input.sk-hidden--visually {border: 0;clip: rect(1px 1px 1px 1px);clip: rect(1px, 1px, 1px, 1px);height: 1px;margin: -1px;overflow: hidden;padding: 0;position: absolute;width: 1px;}#sk-container-id-1 div.sk-estimator {font-family: monospace;background-color: #f0f8ff;border: 1px dotted black;border-radius: 0.25em;box-sizing: border-box;margin-bottom: 0.5em;}#sk-container-id-1 div.sk-estimator:hover {background-color: #d4ebff;}#sk-container-id-1 div.sk-parallel-item::after {content: \"\";width: 100%;border-bottom: 1px solid gray;flex-grow: 1;}#sk-container-id-1 div.sk-label:hover label.sk-toggleable__label {background-color: #d4ebff;}#sk-container-id-1 div.sk-serial::before {content: \"\";position: absolute;border-left: 1px solid gray;box-sizing: border-box;top: 0;bottom: 0;left: 50%;z-index: 0;}#sk-container-id-1 div.sk-serial {display: flex;flex-direction: column;align-items: center;background-color: white;padding-right: 0.2em;padding-left: 0.2em;position: relative;}#sk-container-id-1 div.sk-item {position: relative;z-index: 1;}#sk-container-id-1 div.sk-parallel {display: flex;align-items: stretch;justify-content: center;background-color: white;position: relative;}#sk-container-id-1 div.sk-item::before, #sk-container-id-1 div.sk-parallel-item::before {content: \"\";position: absolute;border-left: 1px solid gray;box-sizing: border-box;top: 0;bottom: 0;left: 50%;z-index: -1;}#sk-container-id-1 div.sk-parallel-item {display: flex;flex-direction: column;z-index: 1;position: relative;background-color: white;}#sk-container-id-1 div.sk-parallel-item:first-child::after {align-self: flex-end;width: 50%;}#sk-container-id-1 div.sk-parallel-item:last-child::after {align-self: flex-start;width: 50%;}#sk-container-id-1 div.sk-parallel-item:only-child::after {width: 0;}#sk-container-id-1 div.sk-dashed-wrapped {border: 1px dashed gray;margin: 0 0.4em 0.5em 0.4em;box-sizing: border-box;padding-bottom: 0.4em;background-color: white;}#sk-container-id-1 div.sk-label label {font-family: monospace;font-weight: bold;display: inline-block;line-height: 1.2em;}#sk-container-id-1 div.sk-label-container {text-align: center;}#sk-container-id-1 div.sk-container {/* jupyter's `normalize.less` sets `[hidden] { display: none; }` but bootstrap.min.css set `[hidden] { display: none !important; }` so we also need the `!important` here to be able to override the default hidden behavior on the sphinx rendered scikit-learn.org. See: https://github.com/scikit-learn/scikit-learn/issues/21755 */display: inline-block !important;position: relative;}#sk-container-id-1 div.sk-text-repr-fallback {display: none;}</style><div id=\"sk-container-id-1\" class=\"sk-top-container\"><div class=\"sk-text-repr-fallback\"><pre>LogisticRegression(max_iter=1000, tol=0.001)</pre><b>In a Jupyter environment, please rerun this cell to show the HTML representation or trust the notebook. <br />On GitHub, the HTML representation is unable to render, please try loading this page with nbviewer.org.</b></div><div class=\"sk-container\" hidden><div class=\"sk-item\"><div class=\"sk-estimator sk-toggleable\"><input class=\"sk-toggleable__control sk-hidden--visually\" id=\"sk-estimator-id-1\" type=\"checkbox\" checked><label for=\"sk-estimator-id-1\" class=\"sk-toggleable__label sk-toggleable__label-arrow\">LogisticRegression</label><div class=\"sk-toggleable__content\"><pre>LogisticRegression(max_iter=1000, tol=0.001)</pre></div></div></div></div></div>"
      ],
      "text/plain": [
       "LogisticRegression(max_iter=1000, tol=0.001)"
      ]
     },
     "execution_count": 13,
     "metadata": {},
     "output_type": "execute_result"
    }
   ],
   "source": [
    "lrc_raw = LogisticRegression(penalty='l2', tol = 10**-3, max_iter=1000)\n",
    "lrc_raw.fit(X_amp_train, y_amp_train)"
   ]
  },
  {
   "cell_type": "code",
   "execution_count": 16,
   "metadata": {},
   "outputs": [
    {
     "name": "stdout",
     "output_type": "stream",
     "text": [
      "Overall accuracy on test set: 17.89%\n",
      "Overall accuracy on train set: 97.73%\n",
      "\n",
      "Per-class accuracy on test set:\n",
      "air_conditioner: 28.67%\n",
      "car_horn: 0.00%\n",
      "children_playing: 34.45%\n",
      "dog_bark: 12.23%\n",
      "drilling: 1.14%\n",
      "engine_idling: 30.68%\n",
      "gun_shot: 6.67%\n",
      "jackhammer: 4.24%\n",
      "siren: 13.98%\n",
      "street_music: 15.67%\n",
      "\n",
      "Per-class accuracy on train set:\n",
      "air_conditioner: 99.29%\n",
      "car_horn: 98.98%\n",
      "children_playing: 98.13%\n",
      "dog_bark: 95.03%\n",
      "drilling: 99.01%\n",
      "engine_idling: 97.64%\n",
      "gun_shot: 97.59%\n",
      "jackhammer: 99.54%\n",
      "siren: 94.16%\n",
      "street_music: 98.14%\n"
     ]
    }
   ],
   "source": [
    "calc_metrics(lrc_raw_2, is_raw_amp=True)"
   ]
  },
  {
   "cell_type": "code",
   "execution_count": 14,
   "metadata": {},
   "outputs": [
    {
     "name": "stdout",
     "output_type": "stream",
     "text": [
      "Overall accuracy on test set: 17.89%\n",
      "Overall accuracy on train set: 97.73%\n",
      "\n",
      "Per-class accuracy on test set:\n",
      "air_conditioner: 28.67%\n",
      "car_horn: 0.00%\n",
      "children_playing: 34.45%\n",
      "dog_bark: 12.23%\n",
      "drilling: 1.14%\n",
      "engine_idling: 30.68%\n",
      "gun_shot: 6.67%\n",
      "jackhammer: 4.24%\n",
      "siren: 13.98%\n",
      "street_music: 15.67%\n",
      "\n",
      "Per-class accuracy on train set:\n",
      "air_conditioner: 99.29%\n",
      "car_horn: 98.98%\n",
      "children_playing: 98.13%\n",
      "dog_bark: 95.03%\n",
      "drilling: 99.01%\n",
      "engine_idling: 97.64%\n",
      "gun_shot: 97.59%\n",
      "jackhammer: 99.54%\n",
      "siren: 94.16%\n",
      "street_music: 98.14%\n"
     ]
    }
   ],
   "source": [
    "calc_metrics(lrc_raw, is_raw_amp=True)"
   ]
  },
  {
   "cell_type": "markdown",
   "metadata": {},
   "source": [
    "### Mel Spectogram Features"
   ]
  },
  {
   "cell_type": "code",
   "execution_count": 18,
   "metadata": {},
   "outputs": [
    {
     "name": "stderr",
     "output_type": "stream",
     "text": [
      "/Users/adammo/Desktop/cs181-env/cs181-s23-homeworks/.venv/lib/python3.11/site-packages/sklearn/linear_model/_logistic.py:458: ConvergenceWarning: lbfgs failed to converge (status=1):\n",
      "STOP: TOTAL NO. of ITERATIONS REACHED LIMIT.\n",
      "\n",
      "Increase the number of iterations (max_iter) or scale the data as shown in:\n",
      "    https://scikit-learn.org/stable/modules/preprocessing.html\n",
      "Please also refer to the documentation for alternative solver options:\n",
      "    https://scikit-learn.org/stable/modules/linear_model.html#logistic-regression\n",
      "  n_iter_i = _check_optimize_result(\n"
     ]
    },
    {
     "data": {
      "text/html": [
       "<style>#sk-container-id-3 {color: black;background-color: white;}#sk-container-id-3 pre{padding: 0;}#sk-container-id-3 div.sk-toggleable {background-color: white;}#sk-container-id-3 label.sk-toggleable__label {cursor: pointer;display: block;width: 100%;margin-bottom: 0;padding: 0.3em;box-sizing: border-box;text-align: center;}#sk-container-id-3 label.sk-toggleable__label-arrow:before {content: \"▸\";float: left;margin-right: 0.25em;color: #696969;}#sk-container-id-3 label.sk-toggleable__label-arrow:hover:before {color: black;}#sk-container-id-3 div.sk-estimator:hover label.sk-toggleable__label-arrow:before {color: black;}#sk-container-id-3 div.sk-toggleable__content {max-height: 0;max-width: 0;overflow: hidden;text-align: left;background-color: #f0f8ff;}#sk-container-id-3 div.sk-toggleable__content pre {margin: 0.2em;color: black;border-radius: 0.25em;background-color: #f0f8ff;}#sk-container-id-3 input.sk-toggleable__control:checked~div.sk-toggleable__content {max-height: 200px;max-width: 100%;overflow: auto;}#sk-container-id-3 input.sk-toggleable__control:checked~label.sk-toggleable__label-arrow:before {content: \"▾\";}#sk-container-id-3 div.sk-estimator input.sk-toggleable__control:checked~label.sk-toggleable__label {background-color: #d4ebff;}#sk-container-id-3 div.sk-label input.sk-toggleable__control:checked~label.sk-toggleable__label {background-color: #d4ebff;}#sk-container-id-3 input.sk-hidden--visually {border: 0;clip: rect(1px 1px 1px 1px);clip: rect(1px, 1px, 1px, 1px);height: 1px;margin: -1px;overflow: hidden;padding: 0;position: absolute;width: 1px;}#sk-container-id-3 div.sk-estimator {font-family: monospace;background-color: #f0f8ff;border: 1px dotted black;border-radius: 0.25em;box-sizing: border-box;margin-bottom: 0.5em;}#sk-container-id-3 div.sk-estimator:hover {background-color: #d4ebff;}#sk-container-id-3 div.sk-parallel-item::after {content: \"\";width: 100%;border-bottom: 1px solid gray;flex-grow: 1;}#sk-container-id-3 div.sk-label:hover label.sk-toggleable__label {background-color: #d4ebff;}#sk-container-id-3 div.sk-serial::before {content: \"\";position: absolute;border-left: 1px solid gray;box-sizing: border-box;top: 0;bottom: 0;left: 50%;z-index: 0;}#sk-container-id-3 div.sk-serial {display: flex;flex-direction: column;align-items: center;background-color: white;padding-right: 0.2em;padding-left: 0.2em;position: relative;}#sk-container-id-3 div.sk-item {position: relative;z-index: 1;}#sk-container-id-3 div.sk-parallel {display: flex;align-items: stretch;justify-content: center;background-color: white;position: relative;}#sk-container-id-3 div.sk-item::before, #sk-container-id-3 div.sk-parallel-item::before {content: \"\";position: absolute;border-left: 1px solid gray;box-sizing: border-box;top: 0;bottom: 0;left: 50%;z-index: -1;}#sk-container-id-3 div.sk-parallel-item {display: flex;flex-direction: column;z-index: 1;position: relative;background-color: white;}#sk-container-id-3 div.sk-parallel-item:first-child::after {align-self: flex-end;width: 50%;}#sk-container-id-3 div.sk-parallel-item:last-child::after {align-self: flex-start;width: 50%;}#sk-container-id-3 div.sk-parallel-item:only-child::after {width: 0;}#sk-container-id-3 div.sk-dashed-wrapped {border: 1px dashed gray;margin: 0 0.4em 0.5em 0.4em;box-sizing: border-box;padding-bottom: 0.4em;background-color: white;}#sk-container-id-3 div.sk-label label {font-family: monospace;font-weight: bold;display: inline-block;line-height: 1.2em;}#sk-container-id-3 div.sk-label-container {text-align: center;}#sk-container-id-3 div.sk-container {/* jupyter's `normalize.less` sets `[hidden] { display: none; }` but bootstrap.min.css set `[hidden] { display: none !important; }` so we also need the `!important` here to be able to override the default hidden behavior on the sphinx rendered scikit-learn.org. See: https://github.com/scikit-learn/scikit-learn/issues/21755 */display: inline-block !important;position: relative;}#sk-container-id-3 div.sk-text-repr-fallback {display: none;}</style><div id=\"sk-container-id-3\" class=\"sk-top-container\"><div class=\"sk-text-repr-fallback\"><pre>LogisticRegression(max_iter=1000, random_state=0, tol=0.001)</pre><b>In a Jupyter environment, please rerun this cell to show the HTML representation or trust the notebook. <br />On GitHub, the HTML representation is unable to render, please try loading this page with nbviewer.org.</b></div><div class=\"sk-container\" hidden><div class=\"sk-item\"><div class=\"sk-estimator sk-toggleable\"><input class=\"sk-toggleable__control sk-hidden--visually\" id=\"sk-estimator-id-3\" type=\"checkbox\" checked><label for=\"sk-estimator-id-3\" class=\"sk-toggleable__label sk-toggleable__label-arrow\">LogisticRegression</label><div class=\"sk-toggleable__content\"><pre>LogisticRegression(max_iter=1000, random_state=0, tol=0.001)</pre></div></div></div></div></div>"
      ],
      "text/plain": [
       "LogisticRegression(max_iter=1000, random_state=0, tol=0.001)"
      ]
     },
     "execution_count": 18,
     "metadata": {},
     "output_type": "execute_result"
    }
   ],
   "source": [
    "lrc_mel_2 = LogisticRegression(tol = 10**-3, max_iter=1000)\n",
    "lrc_mel_2.fit(X_mel_train_flat, y_mel_train)"
   ]
  },
  {
   "cell_type": "code",
   "execution_count": 19,
   "metadata": {},
   "outputs": [
    {
     "name": "stderr",
     "output_type": "stream",
     "text": [
      "/Users/adammo/Desktop/cs181-env/cs181-s23-homeworks/.venv/lib/python3.11/site-packages/sklearn/linear_model/_logistic.py:458: ConvergenceWarning: lbfgs failed to converge (status=1):\n",
      "STOP: TOTAL NO. of ITERATIONS REACHED LIMIT.\n",
      "\n",
      "Increase the number of iterations (max_iter) or scale the data as shown in:\n",
      "    https://scikit-learn.org/stable/modules/preprocessing.html\n",
      "Please also refer to the documentation for alternative solver options:\n",
      "    https://scikit-learn.org/stable/modules/linear_model.html#logistic-regression\n",
      "  n_iter_i = _check_optimize_result(\n"
     ]
    },
    {
     "data": {
      "text/html": [
       "<style>#sk-container-id-4 {color: black;background-color: white;}#sk-container-id-4 pre{padding: 0;}#sk-container-id-4 div.sk-toggleable {background-color: white;}#sk-container-id-4 label.sk-toggleable__label {cursor: pointer;display: block;width: 100%;margin-bottom: 0;padding: 0.3em;box-sizing: border-box;text-align: center;}#sk-container-id-4 label.sk-toggleable__label-arrow:before {content: \"▸\";float: left;margin-right: 0.25em;color: #696969;}#sk-container-id-4 label.sk-toggleable__label-arrow:hover:before {color: black;}#sk-container-id-4 div.sk-estimator:hover label.sk-toggleable__label-arrow:before {color: black;}#sk-container-id-4 div.sk-toggleable__content {max-height: 0;max-width: 0;overflow: hidden;text-align: left;background-color: #f0f8ff;}#sk-container-id-4 div.sk-toggleable__content pre {margin: 0.2em;color: black;border-radius: 0.25em;background-color: #f0f8ff;}#sk-container-id-4 input.sk-toggleable__control:checked~div.sk-toggleable__content {max-height: 200px;max-width: 100%;overflow: auto;}#sk-container-id-4 input.sk-toggleable__control:checked~label.sk-toggleable__label-arrow:before {content: \"▾\";}#sk-container-id-4 div.sk-estimator input.sk-toggleable__control:checked~label.sk-toggleable__label {background-color: #d4ebff;}#sk-container-id-4 div.sk-label input.sk-toggleable__control:checked~label.sk-toggleable__label {background-color: #d4ebff;}#sk-container-id-4 input.sk-hidden--visually {border: 0;clip: rect(1px 1px 1px 1px);clip: rect(1px, 1px, 1px, 1px);height: 1px;margin: -1px;overflow: hidden;padding: 0;position: absolute;width: 1px;}#sk-container-id-4 div.sk-estimator {font-family: monospace;background-color: #f0f8ff;border: 1px dotted black;border-radius: 0.25em;box-sizing: border-box;margin-bottom: 0.5em;}#sk-container-id-4 div.sk-estimator:hover {background-color: #d4ebff;}#sk-container-id-4 div.sk-parallel-item::after {content: \"\";width: 100%;border-bottom: 1px solid gray;flex-grow: 1;}#sk-container-id-4 div.sk-label:hover label.sk-toggleable__label {background-color: #d4ebff;}#sk-container-id-4 div.sk-serial::before {content: \"\";position: absolute;border-left: 1px solid gray;box-sizing: border-box;top: 0;bottom: 0;left: 50%;z-index: 0;}#sk-container-id-4 div.sk-serial {display: flex;flex-direction: column;align-items: center;background-color: white;padding-right: 0.2em;padding-left: 0.2em;position: relative;}#sk-container-id-4 div.sk-item {position: relative;z-index: 1;}#sk-container-id-4 div.sk-parallel {display: flex;align-items: stretch;justify-content: center;background-color: white;position: relative;}#sk-container-id-4 div.sk-item::before, #sk-container-id-4 div.sk-parallel-item::before {content: \"\";position: absolute;border-left: 1px solid gray;box-sizing: border-box;top: 0;bottom: 0;left: 50%;z-index: -1;}#sk-container-id-4 div.sk-parallel-item {display: flex;flex-direction: column;z-index: 1;position: relative;background-color: white;}#sk-container-id-4 div.sk-parallel-item:first-child::after {align-self: flex-end;width: 50%;}#sk-container-id-4 div.sk-parallel-item:last-child::after {align-self: flex-start;width: 50%;}#sk-container-id-4 div.sk-parallel-item:only-child::after {width: 0;}#sk-container-id-4 div.sk-dashed-wrapped {border: 1px dashed gray;margin: 0 0.4em 0.5em 0.4em;box-sizing: border-box;padding-bottom: 0.4em;background-color: white;}#sk-container-id-4 div.sk-label label {font-family: monospace;font-weight: bold;display: inline-block;line-height: 1.2em;}#sk-container-id-4 div.sk-label-container {text-align: center;}#sk-container-id-4 div.sk-container {/* jupyter's `normalize.less` sets `[hidden] { display: none; }` but bootstrap.min.css set `[hidden] { display: none !important; }` so we also need the `!important` here to be able to override the default hidden behavior on the sphinx rendered scikit-learn.org. See: https://github.com/scikit-learn/scikit-learn/issues/21755 */display: inline-block !important;position: relative;}#sk-container-id-4 div.sk-text-repr-fallback {display: none;}</style><div id=\"sk-container-id-4\" class=\"sk-top-container\"><div class=\"sk-text-repr-fallback\"><pre>LogisticRegression(max_iter=1000, random_state=0)</pre><b>In a Jupyter environment, please rerun this cell to show the HTML representation or trust the notebook. <br />On GitHub, the HTML representation is unable to render, please try loading this page with nbviewer.org.</b></div><div class=\"sk-container\" hidden><div class=\"sk-item\"><div class=\"sk-estimator sk-toggleable\"><input class=\"sk-toggleable__control sk-hidden--visually\" id=\"sk-estimator-id-4\" type=\"checkbox\" checked><label for=\"sk-estimator-id-4\" class=\"sk-toggleable__label sk-toggleable__label-arrow\">LogisticRegression</label><div class=\"sk-toggleable__content\"><pre>LogisticRegression(max_iter=1000, random_state=0)</pre></div></div></div></div></div>"
      ],
      "text/plain": [
       "LogisticRegression(max_iter=1000, random_state=0)"
      ]
     },
     "execution_count": 19,
     "metadata": {},
     "output_type": "execute_result"
    }
   ],
   "source": [
    "lrc_mel = LogisticRegression(tol = 10**-4, max_iter=1000)\n",
    "lrc_mel.fit(X_mel_train_flat, y_mel_train)"
   ]
  },
  {
   "cell_type": "code",
   "execution_count": 20,
   "metadata": {},
   "outputs": [
    {
     "name": "stdout",
     "output_type": "stream",
     "text": [
      "Overall accuracy on test set: 36.69%\n",
      "Overall accuracy on train set: 97.55%\n",
      "\n",
      "Per-class accuracy on test set:\n",
      "air_conditioner: 28.67%\n",
      "car_horn: 33.33%\n",
      "children_playing: 23.08%\n",
      "dog_bark: 19.21%\n",
      "drilling: 45.83%\n",
      "engine_idling: 40.53%\n",
      "gun_shot: 70.00%\n",
      "jackhammer: 46.19%\n",
      "siren: 70.34%\n",
      "street_music: 23.33%\n",
      "\n",
      "Per-class accuracy on train set:\n",
      "air_conditioner: 97.71%\n",
      "car_horn: 98.98%\n",
      "children_playing: 95.98%\n",
      "dog_bark: 94.46%\n",
      "drilling: 98.85%\n",
      "engine_idling: 95.98%\n",
      "gun_shot: 100.00%\n",
      "jackhammer: 99.54%\n",
      "siren: 99.55%\n",
      "street_music: 97.29%\n"
     ]
    }
   ],
   "source": [
    "calc_metrics(lrc_mel, is_raw_amp=False)"
   ]
  },
  {
   "cell_type": "markdown",
   "metadata": {},
   "source": [
    "## Part B: More Modeling & Hyperparameter Tuning and Validation"
   ]
  },
  {
   "cell_type": "markdown",
   "metadata": {},
   "source": [
    "### Random Forest Classifier\n",
    "\n",
    "We will instantiate and train an instance of the RandomForestClassifier class, with the number of estimators left at the default value of 100."
   ]
  },
  {
   "cell_type": "markdown",
   "metadata": {},
   "source": [
    "#### Using raw amplitude features:"
   ]
  },
  {
   "cell_type": "code",
   "execution_count": 15,
   "metadata": {},
   "outputs": [
    {
     "name": "stdout",
     "output_type": "stream",
     "text": [
      "Overall accuracy on test set: 24.62%\n",
      "Overall accuracy on train set: 100.00%\n",
      "\n",
      "Per-class accuracy on test set:\n",
      "air_conditioner: 15.33%\n",
      "car_horn: 0.00%\n",
      "children_playing: 54.18%\n",
      "dog_bark: 29.26%\n",
      "drilling: 19.32%\n",
      "engine_idling: 36.74%\n",
      "gun_shot: 0.00%\n",
      "jackhammer: 27.97%\n",
      "siren: 8.05%\n",
      "street_music: 11.00%\n",
      "\n",
      "Per-class accuracy on train set:\n",
      "air_conditioner: 100.00%\n",
      "car_horn: 100.00%\n",
      "children_playing: 100.00%\n",
      "dog_bark: 100.00%\n",
      "drilling: 100.00%\n",
      "engine_idling: 100.00%\n",
      "gun_shot: 100.00%\n",
      "jackhammer: 100.00%\n",
      "siren: 100.00%\n",
      "street_music: 100.00%\n"
     ]
    }
   ],
   "source": [
    "# Import random forest classifier and k-nearest neighbors classifier\n",
    "from sklearn.ensemble import RandomForestClassifier\n",
    "\n",
    "# Create random forest classifier\n",
    "rfc_raw = RandomForestClassifier()\n",
    "rfc_raw.fit(X_amp_train, y_amp_train)\n",
    "\n",
    "calc_metrics(rfc_raw, is_raw_amp=True)"
   ]
  },
  {
   "cell_type": "markdown",
   "metadata": {},
   "source": [
    "#### Using Mel Spectogram features:"
   ]
  },
  {
   "cell_type": "code",
   "execution_count": 16,
   "metadata": {},
   "outputs": [
    {
     "name": "stdout",
     "output_type": "stream",
     "text": [
      "Overall accuracy on test set: 49.20%\n",
      "Overall accuracy on train set: 100.00%\n",
      "\n",
      "Per-class accuracy on test set:\n",
      "air_conditioner: 36.00%\n",
      "car_horn: 25.64%\n",
      "children_playing: 55.85%\n",
      "dog_bark: 44.54%\n",
      "drilling: 59.09%\n",
      "engine_idling: 43.18%\n",
      "gun_shot: 43.33%\n",
      "jackhammer: 47.03%\n",
      "siren: 61.86%\n",
      "street_music: 51.33%\n",
      "\n",
      "Per-class accuracy on train set:\n",
      "air_conditioner: 100.00%\n",
      "car_horn: 100.00%\n",
      "children_playing: 100.00%\n",
      "dog_bark: 100.00%\n",
      "drilling: 100.00%\n",
      "engine_idling: 100.00%\n",
      "gun_shot: 100.00%\n",
      "jackhammer: 100.00%\n",
      "siren: 100.00%\n",
      "street_music: 100.00%\n"
     ]
    }
   ],
   "source": [
    "# Create random forest classifier\n",
    "rfc_mel = RandomForestClassifier()\n",
    "rfc_mel.fit(X_mel_train_flat, y_mel_train)\n",
    "\n",
    "calc_metrics(rfc_mel, is_raw_amp=False)"
   ]
  },
  {
   "cell_type": "markdown",
   "metadata": {},
   "source": [
    "#### Tuning the RFF"
   ]
  },
  {
   "cell_type": "markdown",
   "metadata": {},
   "source": [
    "#### *First Iteration*"
   ]
  },
  {
   "cell_type": "code",
   "execution_count": 20,
   "metadata": {},
   "outputs": [
    {
     "name": "stdout",
     "output_type": "stream",
     "text": [
      "Best parameters for raw amplitude data:\n",
      "Fitting 5 folds for each of 9 candidates, totalling 45 fits\n",
      "[CV] END ....................bootstrap=True, n_estimators=20; total time= 2.2min\n",
      "[CV] END ....................bootstrap=True, n_estimators=20; total time= 2.2min\n",
      "[CV] END ....................bootstrap=True, n_estimators=20; total time= 2.3min\n",
      "[CV] END ....................bootstrap=True, n_estimators=20; total time= 2.3min\n",
      "[CV] END ....................bootstrap=True, n_estimators=20; total time= 2.3min\n",
      "[CV] END ....................bootstrap=True, n_estimators=40; total time= 3.7min\n",
      "[CV] END ....................bootstrap=True, n_estimators=40; total time= 3.7min\n",
      "[CV] END ....................bootstrap=True, n_estimators=40; total time= 3.7min\n",
      "[CV] END ....................bootstrap=True, n_estimators=40; total time= 2.5min\n",
      "[CV] END ....................bootstrap=True, n_estimators=40; total time= 2.5min\n",
      "[CV] END ....................bootstrap=True, n_estimators=60; total time= 3.4min\n",
      "[CV] END ....................bootstrap=True, n_estimators=60; total time= 3.4min\n",
      "[CV] END ....................bootstrap=True, n_estimators=60; total time= 3.5min\n",
      "[CV] END ....................bootstrap=True, n_estimators=60; total time= 2.8min\n",
      "[CV] END ....................bootstrap=True, n_estimators=60; total time= 2.9min\n",
      "[CV] END ....................bootstrap=True, n_estimators=80; total time= 3.4min\n",
      "[CV] END ....................bootstrap=True, n_estimators=80; total time= 2.8min\n",
      "[CV] END ....................bootstrap=True, n_estimators=80; total time= 2.9min\n",
      "[CV] END ....................bootstrap=True, n_estimators=80; total time= 3.0min\n",
      "[CV] END ....................bootstrap=True, n_estimators=80; total time= 3.0min\n",
      "[CV] END ...................bootstrap=True, n_estimators=100; total time= 3.9min\n",
      "[CV] END ...................bootstrap=True, n_estimators=100; total time= 4.2min\n",
      "[CV] END ...................bootstrap=True, n_estimators=100; total time= 4.2min\n",
      "[CV] END ...................bootstrap=True, n_estimators=100; total time= 5.0min\n",
      "[CV] END ...................bootstrap=True, n_estimators=100; total time= 5.6min\n",
      "[CV] END ...................bootstrap=True, n_estimators=120; total time= 6.6min\n",
      "[CV] END ...................bootstrap=True, n_estimators=120; total time= 6.5min\n",
      "[CV] END ...................bootstrap=True, n_estimators=120; total time= 6.7min\n",
      "[CV] END ...................bootstrap=True, n_estimators=120; total time= 7.0min\n",
      "[CV] END ...................bootstrap=True, n_estimators=120; total time= 6.7min\n",
      "[CV] END ...................bootstrap=True, n_estimators=140; total time= 8.0min\n",
      "[CV] END ...................bootstrap=True, n_estimators=140; total time= 7.7min\n",
      "[CV] END ...................bootstrap=True, n_estimators=140; total time= 7.4min\n",
      "[CV] END ...................bootstrap=True, n_estimators=140; total time= 6.9min\n",
      "[CV] END ...................bootstrap=True, n_estimators=140; total time= 6.2min\n",
      "[CV] END ...................bootstrap=True, n_estimators=160; total time= 6.5min\n",
      "[CV] END ...................bootstrap=True, n_estimators=160; total time= 5.8min\n",
      "[CV] END ...................bootstrap=True, n_estimators=160; total time= 6.0min\n",
      "[CV] END ...................bootstrap=True, n_estimators=160; total time= 5.0min\n",
      "[CV] END ...................bootstrap=True, n_estimators=160; total time= 4.2min\n",
      "[CV] END ...................bootstrap=True, n_estimators=180; total time= 3.8min\n",
      "[CV] END ...................bootstrap=True, n_estimators=180; total time= 3.4min\n",
      "[CV] END ...................bootstrap=True, n_estimators=180; total time= 3.3min\n",
      "[CV] END ...................bootstrap=True, n_estimators=180; total time= 3.0min\n",
      "[CV] END ...................bootstrap=True, n_estimators=180; total time= 2.6min\n",
      "{'bootstrap': True, 'n_estimators': 180}\n",
      "\n",
      "Best parameters for mel spectrogram data:\n",
      "Fitting 5 folds for each of 9 candidates, totalling 45 fits\n",
      "[CV] END ....................bootstrap=True, n_estimators=20; total time=   6.2s\n",
      "[CV] END ....................bootstrap=True, n_estimators=20; total time=   6.3s\n",
      "[CV] END ....................bootstrap=True, n_estimators=20; total time=   6.3s\n",
      "[CV] END ....................bootstrap=True, n_estimators=20; total time=   6.4s\n",
      "[CV] END ....................bootstrap=True, n_estimators=20; total time=   6.9s\n",
      "[CV] END ....................bootstrap=True, n_estimators=40; total time=  12.6s\n",
      "[CV] END ....................bootstrap=True, n_estimators=40; total time=  12.8s\n",
      "[CV] END ....................bootstrap=True, n_estimators=40; total time=  12.9s\n",
      "[CV] END ....................bootstrap=True, n_estimators=40; total time=  13.4s\n",
      "[CV] END ....................bootstrap=True, n_estimators=40; total time=  13.6s\n",
      "[CV] END ....................bootstrap=True, n_estimators=60; total time=  19.3s\n",
      "[CV] END ....................bootstrap=True, n_estimators=60; total time=  19.7s\n",
      "[CV] END ....................bootstrap=True, n_estimators=60; total time=  19.1s\n",
      "[CV] END ....................bootstrap=True, n_estimators=60; total time=  19.6s\n",
      "[CV] END ....................bootstrap=True, n_estimators=60; total time=  20.6s\n",
      "[CV] END ....................bootstrap=True, n_estimators=80; total time=  27.5s\n",
      "[CV] END ....................bootstrap=True, n_estimators=80; total time=  26.4s\n",
      "[CV] END ....................bootstrap=True, n_estimators=80; total time=  27.8s\n",
      "[CV] END ....................bootstrap=True, n_estimators=80; total time=  26.6s\n",
      "[CV] END ....................bootstrap=True, n_estimators=80; total time=  27.0s\n",
      "[CV] END ...................bootstrap=True, n_estimators=100; total time=  34.2s\n",
      "[CV] END ...................bootstrap=True, n_estimators=100; total time=  34.0s\n",
      "[CV] END ...................bootstrap=True, n_estimators=100; total time=  34.1s\n",
      "[CV] END ...................bootstrap=True, n_estimators=100; total time=  35.1s\n",
      "[CV] END ...................bootstrap=True, n_estimators=100; total time=  35.0s\n",
      "[CV] END ...................bootstrap=True, n_estimators=120; total time=  44.1s\n",
      "[CV] END ...................bootstrap=True, n_estimators=120; total time=  43.0s\n",
      "[CV] END ...................bootstrap=True, n_estimators=120; total time=  43.6s\n",
      "[CV] END ...................bootstrap=True, n_estimators=120; total time=  43.7s\n",
      "[CV] END ...................bootstrap=True, n_estimators=120; total time=  41.7s\n",
      "[CV] END ...................bootstrap=True, n_estimators=140; total time=  50.0s\n",
      "[CV] END ...................bootstrap=True, n_estimators=140; total time=  51.2s\n",
      "[CV] END ...................bootstrap=True, n_estimators=140; total time=  50.1s\n",
      "[CV] END ...................bootstrap=True, n_estimators=140; total time=  52.0s\n",
      "[CV] END ...................bootstrap=True, n_estimators=140; total time=  50.5s\n",
      "[CV] END ...................bootstrap=True, n_estimators=160; total time=  58.7s\n",
      "[CV] END ...................bootstrap=True, n_estimators=160; total time=  59.4s\n",
      "[CV] END ...................bootstrap=True, n_estimators=160; total time=  59.3s\n",
      "[CV] END ...................bootstrap=True, n_estimators=160; total time= 1.0min\n",
      "[CV] END ...................bootstrap=True, n_estimators=160; total time=  59.2s\n",
      "[CV] END ...................bootstrap=True, n_estimators=180; total time= 1.1min\n",
      "[CV] END ...................bootstrap=True, n_estimators=180; total time= 1.0min\n",
      "[CV] END ...................bootstrap=True, n_estimators=180; total time= 1.1min\n",
      "[CV] END ...................bootstrap=True, n_estimators=180; total time= 1.0min\n",
      "[CV] END ...................bootstrap=True, n_estimators=180; total time=  56.2s\n",
      "{'bootstrap': True, 'n_estimators': 180}\n"
     ]
    }
   ],
   "source": [
    "from sklearn.model_selection import GridSearchCV\n",
    "\n",
    "def rfc_random_search(X, y, param_range=range(20, 200, 20)):\n",
    "    # Create the parameter grid based on the results of random search\n",
    "    param_grid = {\n",
    "        'bootstrap': [True],\n",
    "        'n_estimators': param_range\n",
    "    }\n",
    "\n",
    "    # Create a based model\n",
    "    rf = RandomForestClassifier()\n",
    "\n",
    "    # Instantiate the grid search model\n",
    "    grid_search = GridSearchCV(estimator = rf, param_grid = param_grid,\n",
    "                                n_jobs = -1, verbose = 2)\n",
    "\n",
    "    # Fit the grid search to the data\n",
    "    grid_search.fit(X, y)\n",
    "\n",
    "    return grid_search.best_params_\n",
    "\n",
    "# Run random search on raw amplitude data\n",
    "print(\"Best parameters for raw amplitude data:\")\n",
    "print(rfc_random_search(X_amp_train, y_amp_train))\n",
    "\n",
    "# Run random search on mel spectrogram data\n",
    "print(\"\\nBest parameters for mel spectrogram data:\")\n",
    "print(rfc_random_search(X_mel_train_flat, y_mel_train))\n"
   ]
  },
  {
   "cell_type": "markdown",
   "metadata": {},
   "source": [
    "#### *More specific tuning*"
   ]
  },
  {
   "cell_type": "code",
   "execution_count": 28,
   "metadata": {},
   "outputs": [
    {
     "name": "stdout",
     "output_type": "stream",
     "text": [
      "Best parameters for raw amplitude data:\n",
      "Fitting 5 folds for each of 8 candidates, totalling 40 fits\n",
      "[CV] END ...................bootstrap=True, n_estimators=160; total time= 4.2min\n",
      "[CV] END ...................bootstrap=True, n_estimators=160; total time= 4.3min\n",
      "[CV] END ...................bootstrap=True, n_estimators=160; total time= 4.3min\n",
      "[CV] END ...................bootstrap=True, n_estimators=160; total time= 4.3min\n",
      "[CV] END ...................bootstrap=True, n_estimators=160; total time= 4.3min\n",
      "[CV] END ...................bootstrap=True, n_estimators=165; total time= 4.4min\n",
      "[CV] END ...................bootstrap=True, n_estimators=165; total time= 4.5min\n",
      "[CV] END ...................bootstrap=True, n_estimators=165; total time= 4.5min\n",
      "[CV] END ...................bootstrap=True, n_estimators=165; total time= 3.8min\n",
      "[CV] END ...................bootstrap=True, n_estimators=165; total time= 3.8min\n",
      "[CV] END ...................bootstrap=True, n_estimators=170; total time= 3.9min\n",
      "[CV] END ...................bootstrap=True, n_estimators=170; total time= 3.9min\n",
      "[CV] END ...................bootstrap=True, n_estimators=170; total time= 3.9min\n",
      "[CV] END ...................bootstrap=True, n_estimators=170; total time= 4.0min\n",
      "[CV] END ...................bootstrap=True, n_estimators=170; total time= 3.9min\n",
      "[CV] END ...................bootstrap=True, n_estimators=175; total time= 4.0min\n",
      "[CV] END ...................bootstrap=True, n_estimators=175; total time= 4.8min\n",
      "[CV] END ...................bootstrap=True, n_estimators=175; total time= 4.8min\n",
      "[CV] END ...................bootstrap=True, n_estimators=175; total time= 4.8min\n",
      "[CV] END ...................bootstrap=True, n_estimators=175; total time= 4.9min\n",
      "[CV] END ...................bootstrap=True, n_estimators=180; total time= 5.0min\n",
      "[CV] END ...................bootstrap=True, n_estimators=180; total time= 5.0min\n",
      "[CV] END ...................bootstrap=True, n_estimators=180; total time= 5.1min\n",
      "[CV] END ...................bootstrap=True, n_estimators=180; total time= 4.9min\n",
      "[CV] END ...................bootstrap=True, n_estimators=180; total time= 4.6min\n",
      "[CV] END ...................bootstrap=True, n_estimators=185; total time= 4.7min\n",
      "[CV] END ...................bootstrap=True, n_estimators=185; total time= 4.7min\n",
      "[CV] END ...................bootstrap=True, n_estimators=185; total time= 4.7min\n",
      "[CV] END ...................bootstrap=True, n_estimators=185; total time= 4.7min\n",
      "[CV] END ...................bootstrap=True, n_estimators=185; total time= 4.7min\n",
      "[CV] END ...................bootstrap=True, n_estimators=190; total time= 4.8min\n",
      "[CV] END ...................bootstrap=True, n_estimators=190; total time= 4.8min\n",
      "[CV] END ...................bootstrap=True, n_estimators=190; total time= 5.5min\n",
      "[CV] END ...................bootstrap=True, n_estimators=190; total time= 5.4min\n",
      "[CV] END ...................bootstrap=True, n_estimators=190; total time= 5.4min\n",
      "[CV] END ...................bootstrap=True, n_estimators=195; total time= 5.4min\n",
      "[CV] END ...................bootstrap=True, n_estimators=195; total time= 5.2min\n",
      "[CV] END ...................bootstrap=True, n_estimators=195; total time= 5.3min\n",
      "[CV] END ...................bootstrap=True, n_estimators=195; total time= 5.2min\n",
      "[CV] END ...................bootstrap=True, n_estimators=195; total time= 5.1min\n",
      "{'bootstrap': True, 'n_estimators': 195}\n",
      "\n",
      "Best parameters for mel spectrogram data:\n",
      "Fitting 5 folds for each of 8 candidates, totalling 40 fits\n",
      "[CV] END ...................bootstrap=True, n_estimators=160; total time=  53.0s\n",
      "[CV] END ...................bootstrap=True, n_estimators=160; total time=  54.0s\n",
      "[CV] END ...................bootstrap=True, n_estimators=160; total time=  54.3s\n",
      "[CV] END ...................bootstrap=True, n_estimators=160; total time=  54.6s\n",
      "[CV] END ...................bootstrap=True, n_estimators=160; total time=  55.5s\n",
      "[CV] END ...................bootstrap=True, n_estimators=165; total time=  55.8s\n",
      "[CV] END ...................bootstrap=True, n_estimators=165; total time=  55.9s\n",
      "[CV] END ...................bootstrap=True, n_estimators=165; total time=  57.3s\n",
      "[CV] END ...................bootstrap=True, n_estimators=165; total time= 1.0min\n",
      "[CV] END ...................bootstrap=True, n_estimators=165; total time= 1.0min\n",
      "[CV] END ...................bootstrap=True, n_estimators=170; total time= 1.1min\n",
      "[CV] END ...................bootstrap=True, n_estimators=170; total time= 1.1min\n",
      "[CV] END ...................bootstrap=True, n_estimators=170; total time= 1.1min\n",
      "[CV] END ...................bootstrap=True, n_estimators=170; total time= 1.1min\n",
      "[CV] END ...................bootstrap=True, n_estimators=170; total time= 1.1min\n",
      "[CV] END ...................bootstrap=True, n_estimators=175; total time= 1.1min\n",
      "[CV] END ...................bootstrap=True, n_estimators=175; total time= 1.3min\n",
      "[CV] END ...................bootstrap=True, n_estimators=175; total time= 1.4min\n",
      "[CV] END ...................bootstrap=True, n_estimators=175; total time= 1.4min\n",
      "[CV] END ...................bootstrap=True, n_estimators=175; total time= 1.4min\n",
      "[CV] END ...................bootstrap=True, n_estimators=180; total time= 1.4min\n",
      "[CV] END ...................bootstrap=True, n_estimators=180; total time= 1.4min\n",
      "[CV] END ...................bootstrap=True, n_estimators=180; total time= 1.4min\n",
      "[CV] END ...................bootstrap=True, n_estimators=180; total time= 1.4min\n",
      "[CV] END ...................bootstrap=True, n_estimators=180; total time= 1.2min\n",
      "[CV] END ...................bootstrap=True, n_estimators=185; total time= 1.3min\n",
      "[CV] END ...................bootstrap=True, n_estimators=185; total time= 1.2min\n",
      "[CV] END ...................bootstrap=True, n_estimators=185; total time= 1.3min\n",
      "[CV] END ...................bootstrap=True, n_estimators=185; total time= 1.2min\n",
      "[CV] END ...................bootstrap=True, n_estimators=185; total time= 1.3min\n",
      "[CV] END ...................bootstrap=True, n_estimators=190; total time= 1.3min\n",
      "[CV] END ...................bootstrap=True, n_estimators=190; total time= 1.3min\n",
      "[CV] END ...................bootstrap=True, n_estimators=190; total time= 1.2min\n",
      "[CV] END ...................bootstrap=True, n_estimators=190; total time= 1.2min\n",
      "[CV] END ...................bootstrap=True, n_estimators=190; total time= 1.2min\n",
      "[CV] END ...................bootstrap=True, n_estimators=195; total time= 1.2min\n",
      "[CV] END ...................bootstrap=True, n_estimators=195; total time= 1.2min\n",
      "[CV] END ...................bootstrap=True, n_estimators=195; total time= 1.2min\n",
      "[CV] END ...................bootstrap=True, n_estimators=195; total time= 1.2min\n",
      "[CV] END ...................bootstrap=True, n_estimators=195; total time= 1.2min\n",
      "{'bootstrap': True, 'n_estimators': 170}\n"
     ]
    }
   ],
   "source": [
    "# Run more specific random search on raw amplitude data\n",
    "\n",
    "print(\"Best parameters for raw amplitude data:\")\n",
    "print(rfc_random_search(X_amp_train, y_amp_train, param_range=range(160, 200, 5)))\n",
    "\n",
    "print(\"\\nBest parameters for mel spectrogram data:\")\n",
    "print(rfc_random_search(X_mel_train_flat, y_mel_train, param_range=range(160, 200, 5)))"
   ]
  },
  {
   "cell_type": "markdown",
   "metadata": {},
   "source": [
    "### K-Nearest Neighbours\n",
    "\n",
    "We will instantiate and train an instance of the KNeighbours class, with the number of neighbours left at the default value of 5."
   ]
  },
  {
   "cell_type": "markdown",
   "metadata": {},
   "source": [
    "#### Using Raw Amplitude Features"
   ]
  },
  {
   "cell_type": "code",
   "execution_count": 17,
   "metadata": {},
   "outputs": [
    {
     "name": "stdout",
     "output_type": "stream",
     "text": [
      "Overall accuracy on test set: 17.84%\n",
      "Overall accuracy on train set: 27.30%\n",
      "\n",
      "Per-class accuracy on test set:\n",
      "air_conditioner: 27.00%\n",
      "car_horn: 0.00%\n",
      "children_playing: 16.05%\n",
      "dog_bark: 10.92%\n",
      "drilling: 0.00%\n",
      "engine_idling: 14.77%\n",
      "gun_shot: 3.33%\n",
      "jackhammer: 0.00%\n",
      "siren: 80.93%\n",
      "street_music: 2.33%\n",
      "\n",
      "Per-class accuracy on train set:\n",
      "air_conditioner: 41.43%\n",
      "car_horn: 8.12%\n",
      "children_playing: 37.07%\n",
      "dog_bark: 30.02%\n",
      "drilling: 0.66%\n",
      "engine_idling: 28.85%\n",
      "gun_shot: 9.64%\n",
      "jackhammer: 0.30%\n",
      "siren: 75.15%\n",
      "street_music: 10.14%\n"
     ]
    }
   ],
   "source": [
    "from sklearn.neighbors import KNeighborsClassifier\n",
    "\n",
    "# Create k-nearest neighbors classifier\n",
    "knn_raw = KNeighborsClassifier()\n",
    "knn_raw.fit(X_amp_train, y_amp_train)\n",
    "\n",
    "calc_metrics(knn_raw, is_raw_amp=True)"
   ]
  },
  {
   "cell_type": "markdown",
   "metadata": {},
   "source": [
    "#### Using Mel Spectogram Features"
   ]
  },
  {
   "cell_type": "code",
   "execution_count": 18,
   "metadata": {},
   "outputs": [
    {
     "name": "stdout",
     "output_type": "stream",
     "text": [
      "Overall accuracy on test set: 26.90%\n",
      "Overall accuracy on train set: 59.54%\n",
      "\n",
      "Per-class accuracy on test set:\n",
      "air_conditioner: 16.67%\n",
      "car_horn: 38.46%\n",
      "children_playing: 24.08%\n",
      "dog_bark: 16.59%\n",
      "drilling: 31.44%\n",
      "engine_idling: 32.95%\n",
      "gun_shot: 53.33%\n",
      "jackhammer: 63.56%\n",
      "siren: 26.27%\n",
      "street_music: 6.00%\n",
      "\n",
      "Per-class accuracy on train set:\n",
      "air_conditioner: 78.29%\n",
      "car_horn: 50.25%\n",
      "children_playing: 46.84%\n",
      "dog_bark: 41.11%\n",
      "drilling: 67.22%\n",
      "engine_idling: 87.93%\n",
      "gun_shot: 66.27%\n",
      "jackhammer: 82.37%\n",
      "siren: 49.55%\n",
      "street_music: 21.14%\n"
     ]
    }
   ],
   "source": [
    "knn_mel = KNeighborsClassifier()\n",
    "knn_mel.fit(X_mel_train_flat, y_mel_train)\n",
    "\n",
    "calc_metrics(knn_mel, is_raw_amp=False)"
   ]
  },
  {
   "cell_type": "markdown",
   "metadata": {},
   "source": [
    "#### Tuning KNN"
   ]
  },
  {
   "cell_type": "code",
   "execution_count": 26,
   "metadata": {},
   "outputs": [
    {
     "name": "stdout",
     "output_type": "stream",
     "text": [
      "Best parameters for raw amplitude data:\n",
      "Fitting 5 folds for each of 8 candidates, totalling 40 fits\n",
      "[CV 4/5] END .....................n_neighbors=2;, score=0.158 total time=  35.4s\n",
      "[CV 5/5] END .....................n_neighbors=2;, score=0.198 total time=  35.9s\n",
      "[CV 2/5] END .....................n_neighbors=3;, score=0.185 total time=  35.9s\n",
      "[CV 3/5] END .....................n_neighbors=3;, score=0.157 total time=  36.0s\n",
      "[CV 3/5] END .....................n_neighbors=2;, score=0.161 total time=  37.8s\n",
      "[CV 2/5] END .....................n_neighbors=2;, score=0.189 total time=  37.8s\n",
      "[CV 1/5] END .....................n_neighbors=2;, score=0.185 total time=  38.0s\n",
      "[CV 1/5] END .....................n_neighbors=3;, score=0.179 total time=  38.0s\n",
      "[CV 4/5] END .....................n_neighbors=3;, score=0.176 total time=  33.0s\n",
      "[CV 5/5] END .....................n_neighbors=3;, score=0.192 total time=  35.9s\n",
      "[CV 1/5] END .....................n_neighbors=4;, score=0.174 total time=  36.0s\n",
      "[CV 2/5] END .....................n_neighbors=4;, score=0.183 total time=  36.1s\n",
      "[CV 3/5] END .....................n_neighbors=4;, score=0.155 total time=  35.4s\n",
      "[CV 4/5] END .....................n_neighbors=4;, score=0.164 total time=  35.7s\n",
      "[CV 5/5] END .....................n_neighbors=4;, score=0.200 total time=  35.6s\n",
      "[CV 1/5] END .....................n_neighbors=5;, score=0.169 total time=  38.5s\n",
      "[CV 2/5] END .....................n_neighbors=5;, score=0.180 total time=  36.7s\n",
      "[CV 3/5] END .....................n_neighbors=5;, score=0.143 total time=  33.7s\n",
      "[CV 4/5] END .....................n_neighbors=5;, score=0.164 total time=  34.1s\n",
      "[CV 5/5] END .....................n_neighbors=5;, score=0.186 total time=  33.9s\n",
      "[CV 1/5] END .....................n_neighbors=6;, score=0.161 total time=  34.0s\n",
      "[CV 3/5] END .....................n_neighbors=6;, score=0.142 total time=  34.0s\n",
      "[CV 2/5] END .....................n_neighbors=6;, score=0.158 total time=  34.2s\n",
      "[CV 4/5] END .....................n_neighbors=6;, score=0.164 total time=  32.3s\n",
      "[CV 5/5] END .....................n_neighbors=6;, score=0.178 total time=  37.8s\n",
      "[CV 1/5] END .....................n_neighbors=7;, score=0.163 total time=  37.4s\n",
      "[CV 2/5] END .....................n_neighbors=7;, score=0.142 total time=  37.3s\n",
      "[CV 3/5] END .....................n_neighbors=7;, score=0.146 total time=  37.4s\n",
      "[CV 4/5] END .....................n_neighbors=7;, score=0.160 total time=  37.3s\n",
      "[CV 5/5] END .....................n_neighbors=7;, score=0.177 total time=  37.1s\n",
      "[CV 1/5] END .....................n_neighbors=8;, score=0.159 total time=  39.7s\n",
      "[CV 2/5] END .....................n_neighbors=8;, score=0.158 total time=  40.2s\n",
      "[CV 3/5] END .....................n_neighbors=8;, score=0.139 total time=  54.6s\n",
      "[CV 4/5] END .....................n_neighbors=8;, score=0.152 total time=  54.8s\n",
      "[CV 5/5] END .....................n_neighbors=8;, score=0.185 total time=  54.9s\n",
      "[CV 2/5] END .....................n_neighbors=9;, score=0.147 total time=  53.7s\n",
      "[CV 3/5] END .....................n_neighbors=9;, score=0.139 total time=  54.3s\n",
      "[CV 1/5] END .....................n_neighbors=9;, score=0.156 total time=  55.6s\n",
      "[CV 4/5] END .....................n_neighbors=9;, score=0.155 total time=  51.9s\n",
      "[CV 5/5] END .....................n_neighbors=9;, score=0.180 total time=  50.6s\n",
      "{'n_neighbors': 2}\n",
      "\n",
      "Best parameters for mel spectrogram data:\n",
      "Fitting 5 folds for each of 8 candidates, totalling 40 fits\n",
      "[CV 3/5] END .....................n_neighbors=2;, score=0.364 total time=   7.4s\n",
      "[CV 1/5] END .....................n_neighbors=3;, score=0.281 total time=   7.5s\n",
      "[CV 3/5] END .....................n_neighbors=3;, score=0.364 total time=   7.5s\n",
      "[CV 5/5] END .....................n_neighbors=2;, score=0.216 total time=   7.7s\n",
      "[CV 4/5] END .....................n_neighbors=2;, score=0.354 total time=   7.7s\n",
      "[CV 2/5] END .....................n_neighbors=3;, score=0.370 total time=   7.7s\n",
      "[CV 1/5] END .....................n_neighbors=2;, score=0.279 total time=   7.7s\n",
      "[CV 2/5] END .....................n_neighbors=2;, score=0.370 total time=   7.8s\n",
      "[CV 4/5] END .....................n_neighbors=3;, score=0.361 total time=   9.1s\n",
      "[CV 4/5] END .....................n_neighbors=4;, score=0.347 total time=   8.8s\n",
      "[CV 3/5] END .....................n_neighbors=4;, score=0.372 total time=   8.8s\n",
      "[CV 1/5] END .....................n_neighbors=5;, score=0.280 total time=   8.8s\n",
      "[CV 2/5] END .....................n_neighbors=4;, score=0.356 total time=   8.9s\n",
      "[CV 1/5] END .....................n_neighbors=4;, score=0.282 total time=   9.1s\n",
      "[CV 5/5] END .....................n_neighbors=3;, score=0.232 total time=   9.3s\n",
      "[CV 5/5] END .....................n_neighbors=4;, score=0.226 total time=   9.1s\n",
      "[CV 2/5] END .....................n_neighbors=5;, score=0.344 total time=   9.2s\n",
      "[CV 5/5] END .....................n_neighbors=5;, score=0.221 total time=   9.1s\n",
      "[CV 3/5] END .....................n_neighbors=6;, score=0.362 total time=   9.0s\n",
      "[CV 3/5] END .....................n_neighbors=5;, score=0.374 total time=   9.3s\n",
      "[CV 1/5] END .....................n_neighbors=6;, score=0.287 total time=   9.3s\n",
      "[CV 4/5] END .....................n_neighbors=5;, score=0.348 total time=   9.4s\n",
      "[CV 2/5] END .....................n_neighbors=6;, score=0.331 total time=   9.5s\n",
      "[CV 4/5] END .....................n_neighbors=6;, score=0.343 total time=   9.4s\n",
      "[CV 5/5] END .....................n_neighbors=6;, score=0.223 total time=   8.6s\n",
      "[CV 1/5] END .....................n_neighbors=7;, score=0.286 total time=   8.6s\n",
      "[CV 3/5] END .....................n_neighbors=7;, score=0.357 total time=   8.6s\n",
      "[CV 5/5] END .....................n_neighbors=7;, score=0.215 total time=   8.5s\n",
      "[CV 4/5] END .....................n_neighbors=7;, score=0.331 total time=   8.8s\n",
      "[CV 2/5] END .....................n_neighbors=7;, score=0.330 total time=   8.8s\n",
      "[CV 1/5] END .....................n_neighbors=8;, score=0.289 total time=   8.6s\n",
      "[CV 2/5] END .....................n_neighbors=8;, score=0.311 total time=   8.6s\n",
      "[CV 5/5] END .....................n_neighbors=8;, score=0.219 total time=   8.4s\n",
      "[CV 4/5] END .....................n_neighbors=8;, score=0.325 total time=   8.6s\n",
      "[CV 1/5] END .....................n_neighbors=9;, score=0.279 total time=   8.5s\n",
      "[CV 4/5] END .....................n_neighbors=9;, score=0.317 total time=   8.4s\n",
      "[CV 3/5] END .....................n_neighbors=9;, score=0.341 total time=   8.5s\n",
      "[CV 3/5] END .....................n_neighbors=8;, score=0.352 total time=   8.8s\n",
      "[CV 5/5] END .....................n_neighbors=9;, score=0.216 total time=   8.3s\n",
      "[CV 2/5] END .....................n_neighbors=9;, score=0.310 total time=   8.5s\n",
      "{'n_neighbors': 3}\n"
     ]
    }
   ],
   "source": [
    "from sklearn.model_selection import GridSearchCV\n",
    "\n",
    "def knn_random_search(X, y, param_range=range(2, 10)):\n",
    "    # Create the parameter grid based on the results of random search\n",
    "    param_grid = {\n",
    "        'n_neighbors': param_range\n",
    "    }\n",
    "\n",
    "    # Create a based model\n",
    "    knn = KNeighborsClassifier()\n",
    "\n",
    "    # Instantiate the grid search model\n",
    "    grid_search = GridSearchCV(estimator = knn, param_grid = param_grid,\n",
    "                                n_jobs = -1, verbose = 3)\n",
    "\n",
    "    # Fit the grid search to the data\n",
    "    grid_search.fit(X, y)\n",
    "\n",
    "    return grid_search.best_params_\n",
    "\n",
    "# Run random search on raw amplitude data\n",
    "print(\"Best parameters for raw amplitude data:\")\n",
    "print(knn_random_search(X_amp_train, y_amp_train))\n",
    "\n",
    "# Run random search on mel spectrogram data\n",
    "print(\"\\nBest parameters for mel spectrogram data:\")\n",
    "print(knn_random_search(X_mel_train_flat, y_mel_train))"
   ]
  },
  {
   "cell_type": "code",
   "execution_count": 27,
   "metadata": {},
   "outputs": [
    {
     "name": "stdout",
     "output_type": "stream",
     "text": [
      "Overall accuracy on test set: 27.04%\n",
      "Overall accuracy on train set: 67.15%\n",
      "\n",
      "Per-class accuracy on test set:\n",
      "air_conditioner: 18.67%\n",
      "car_horn: 38.46%\n",
      "children_playing: 26.42%\n",
      "dog_bark: 18.34%\n",
      "drilling: 31.06%\n",
      "engine_idling: 29.17%\n",
      "gun_shot: 50.00%\n",
      "jackhammer: 61.02%\n",
      "siren: 27.12%\n",
      "street_music: 6.67%\n",
      "\n",
      "Per-class accuracy on train set:\n",
      "air_conditioner: 84.14%\n",
      "car_horn: 75.63%\n",
      "children_playing: 61.78%\n",
      "dog_bark: 50.10%\n",
      "drilling: 72.82%\n",
      "engine_idling: 90.43%\n",
      "gun_shot: 71.08%\n",
      "jackhammer: 86.17%\n",
      "siren: 56.89%\n",
      "street_music: 28.43%\n"
     ]
    }
   ],
   "source": [
    "knn_mel = KNeighborsClassifier(n_neighbors=3)\n",
    "knn_mel.fit(X_mel_train_flat, y_mel_train)\n",
    "\n",
    "calc_metrics(knn_mel, is_raw_amp=False)"
   ]
  }
 ],
 "metadata": {
  "kernelspec": {
   "display_name": "Python 3.11.2 ('.venv': venv)",
   "language": "python",
   "name": "python3"
  },
  "language_info": {
   "codemirror_mode": {
    "name": "ipython",
    "version": 3
   },
   "file_extension": ".py",
   "mimetype": "text/x-python",
   "name": "python",
   "nbconvert_exporter": "python",
   "pygments_lexer": "ipython3",
   "version": "3.11.2"
  },
  "orig_nbformat": 4,
  "vscode": {
   "interpreter": {
    "hash": "78b580f2900286d3accb634676bf73e6158b3c15d83945387503493fe370dbb7"
   }
  }
 },
 "nbformat": 4,
 "nbformat_minor": 2
}
