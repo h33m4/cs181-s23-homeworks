{
 "cells": [
  {
   "cell_type": "markdown",
   "metadata": {},
   "source": [
    "# CS181 Practical I"
   ]
  },
  {
   "cell_type": "code",
   "execution_count": 10,
   "metadata": {},
   "outputs": [],
   "source": [
    "import numpy as np\n",
    "import matplotlib.pyplot as plt"
   ]
  },
  {
   "cell_type": "markdown",
   "metadata": {},
   "source": [
    "## Load the data files into local memory from the GCP bucket."
   ]
  },
  {
   "cell_type": "code",
   "execution_count": 23,
   "metadata": {},
   "outputs": [
    {
     "name": "stdout",
     "output_type": "stream",
     "text": [
      "Copying gs://cs181_practical_data/Xtrain_amp.npy...\n",
      "If you experience problems with multiprocessing on MacOS, they might be related to https://bugs.python.org/issue33725. You can disable multiprocessing by editing your .boto config or by adding the following flag to your command: `-o \"GSUtil:parallel_process_count=1\"`. Note that multithreading is still available even if you disable multiprocessing.\n",
      "\n",
      "/ [1 files][934.2 MiB/934.2 MiB]   35.9 MiB/s                                   \n",
      "Operation completed over 1 objects/934.2 MiB.                                    \n",
      "Copying gs://cs181_practical_data/ytrain_amp.npy...\n",
      "/ [1 files][ 43.5 KiB/ 43.5 KiB]                                                \n",
      "Operation completed over 1 objects/43.5 KiB.                                     \n",
      "Copying gs://cs181_practical_data/Xtest_amp.npy...\n",
      "If you experience problems with multiprocessing on MacOS, they might be related to https://bugs.python.org/issue33725. You can disable multiprocessing by editing your .boto config or by adding the following flag to your command: `-o \"GSUtil:parallel_process_count=1\"`. Note that multithreading is still available even if you disable multiprocessing.\n",
      "\n",
      "Resuming download for ./Xtest_amp.npy component 1\n",
      "Resuming download for ./Xtest_amp.npy component 0\n",
      "\\ [1 files][369.6 MiB/369.6 MiB]                                                \n",
      "Operation completed over 1 objects/369.6 MiB.                                    \n",
      "Copying gs://cs181_practical_data/ytest_amp.npy...\n",
      "/ [1 files][ 17.3 KiB/ 17.3 KiB]                                                \n",
      "Operation completed over 1 objects/17.3 KiB.                                     \n",
      "Copying gs://cs181_practical_data/Xtrain_mel.npy...\n",
      "If you experience problems with multiprocessing on MacOS, they might be related to https://bugs.python.org/issue33725. You can disable multiprocessing by editing your .boto config or by adding the following flag to your command: `-o \"GSUtil:parallel_process_count=1\"`. Note that multithreading is still available even if you disable multiprocessing.\n",
      "\n",
      "/ [1 files][235.9 MiB/235.9 MiB]                                                \n",
      "Operation completed over 1 objects/235.9 MiB.                                    \n",
      "Copying gs://cs181_practical_data/ytrain_mel.npy...\n",
      "/ [1 files][ 43.5 KiB/ 43.5 KiB]                                                \n",
      "Operation completed over 1 objects/43.5 KiB.                                     \n",
      "Copying gs://cs181_practical_data/Xtest_mel.npy...\n",
      "- [1 files][ 93.3 MiB/ 93.3 MiB]                                                \n",
      "Operation completed over 1 objects/93.3 MiB.                                     \n",
      "Copying gs://cs181_practical_data/ytest_mel.npy...\n",
      "/ [1 files][ 17.3 KiB/ 17.3 KiB]                                                \n",
      "Operation completed over 1 objects/17.3 KiB.                                     \n"
     ]
    }
   ],
   "source": [
    "!gsutil cp gs://cs181_practical_data/Xtrain_amp.npy ./\n",
    "!gsutil cp gs://cs181_practical_data/ytrain_amp.npy ./\n",
    "\n",
    "!gsutil cp gs://cs181_practical_data/Xtest_amp.npy ./\n",
    "!gsutil cp gs://cs181_practical_data/ytest_amp.npy ./\n",
    "\n",
    "!gsutil cp gs://cs181_practical_data/Xtrain_mel.npy ./\n",
    "!gsutil cp gs://cs181_practical_data/ytrain_mel.npy ./\n",
    "\n",
    "!gsutil cp gs://cs181_practical_data/Xtest_mel.npy ./\n",
    "!gsutil cp gs://cs181_practical_data/ytest_mel.npy ./"
   ]
  },
  {
   "cell_type": "markdown",
   "metadata": {},
   "source": []
  },
  {
   "cell_type": "markdown",
   "metadata": {},
   "source": [
    "## Imports"
   ]
  },
  {
   "cell_type": "code",
   "execution_count": 8,
   "metadata": {},
   "outputs": [],
   "source": [
    "from sklearn.linear_model import LogisticRegression\n",
    "from sklearn.metrics import confusion_matrix\n",
    "from sklearn.metrics import precision_recall_fscore_support\n",
    "from sklearn.ensemble import RandomForestClassifier\n",
    "from sklearn.neighbors import KNeighborsClassifier\n",
    "from sklearn.model_selection import GridSearchCV\n",
    "from sklearn.model_selection import RandomizedSearchCV\n",
    "\n",
    "import librosa\n",
    "\n",
    "from torch import nn\n",
    "from torchsummary import summary\n",
    "\n",
    "\n"
   ]
  },
  {
   "cell_type": "markdown",
   "metadata": {},
   "source": [
    "### Load raw amplitude data as a numpy object."
   ]
  },
  {
   "cell_type": "code",
   "execution_count": 11,
   "metadata": {},
   "outputs": [],
   "source": [
    "# Load train data\n",
    "\n",
    "X_amp_train = np.load(\"Xtrain_amp.npy\")\n",
    "y_amp_train = np.load(\"ytrain_amp.npy\")"
   ]
  },
  {
   "cell_type": "code",
   "execution_count": 27,
   "metadata": {},
   "outputs": [],
   "source": [
    "# Load test data\n",
    "\n",
    "X_amp_test = np.load(\"Xtest_amp.npy\")\n",
    "y_amp_test = np.load(\"ytest_amp.npy\")"
   ]
  },
  {
   "cell_type": "markdown",
   "metadata": {},
   "source": [
    "### Load Mel spectrogram data as a numpy object."
   ]
  },
  {
   "cell_type": "code",
   "execution_count": 15,
   "metadata": {},
   "outputs": [],
   "source": [
    "# Load train data\n",
    "\n",
    "X_mel_train = np.load(\"Xtrain_mel.npy\")\n",
    "y_mel_train = np.load(\"ytrain_mel.npy\")"
   ]
  },
  {
   "cell_type": "code",
   "execution_count": 16,
   "metadata": {},
   "outputs": [
    {
     "data": {
      "text/plain": [
       "(5553, 128, 87)"
      ]
     },
     "execution_count": 16,
     "metadata": {},
     "output_type": "execute_result"
    }
   ],
   "source": [
    "X_mel_train.shape"
   ]
  },
  {
   "cell_type": "code",
   "execution_count": 17,
   "metadata": {},
   "outputs": [
    {
     "data": {
      "text/plain": [
       "(5553, 11136)"
      ]
     },
     "execution_count": 17,
     "metadata": {},
     "output_type": "execute_result"
    }
   ],
   "source": [
    "# Flatten X_mel_train's spectrogram features\n",
    "X_mel_train_flat = X_mel_train.reshape(X_mel_train.shape[0], -1)\n",
    "X_mel_train_flat.shape"
   ]
  },
  {
   "cell_type": "code",
   "execution_count": 18,
   "metadata": {},
   "outputs": [],
   "source": [
    "# Load test data\n",
    "\n",
    "X_mel_test = np.load(\"Xtest_mel.npy\")\n",
    "y_mel_test = np.load(\"ytest_mel.npy\")"
   ]
  },
  {
   "cell_type": "code",
   "execution_count": 19,
   "metadata": {},
   "outputs": [
    {
     "data": {
      "text/plain": [
       "(2197, 128, 87)"
      ]
     },
     "execution_count": 19,
     "metadata": {},
     "output_type": "execute_result"
    }
   ],
   "source": [
    "X_mel_test.shape"
   ]
  },
  {
   "cell_type": "code",
   "execution_count": 47,
   "metadata": {},
   "outputs": [
    {
     "data": {
      "text/plain": [
       "(2197, 11136)"
      ]
     },
     "execution_count": 47,
     "metadata": {},
     "output_type": "execute_result"
    }
   ],
   "source": [
    "# Flatten X_mel_test's spectrogram features\n",
    "X_mel_test_flat = X_mel_test.reshape(X_mel_test.shape[0], -1)\n",
    "X_mel_test_flat.shape"
   ]
  },
  {
   "cell_type": "markdown",
   "metadata": {},
   "source": [
    "## Metrics"
   ]
  },
  {
   "cell_type": "code",
   "execution_count": 38,
   "metadata": {},
   "outputs": [],
   "source": [
    "def get_metrics(model, is_raw=True):\n",
    "    # we can also get TP, TN, FP, FN from this\n",
    "    overall_train_acc = -1\n",
    "    overall_test_acc = -1\n",
    "    train_matrix = -1\n",
    "    test_matrix = -1\n",
    "    other_metrics_train = -1\n",
    "    other_metrics_test = -1\n",
    "\n",
    "    if is_raw:\n",
    "        overall_train_acc = model.score(X_amp_train, y_amp_train)\n",
    "        overall_test_acc = model.score(X_amp_test, y_amp_test)\n",
    "\n",
    "        y_pred_train = model.predict(X_amp_train)\n",
    "        y_pred_test = model.predict(X_amp_test)\n",
    "\n",
    "        train_matrix = confusion_matrix(y_amp_train, y_pred_train)\n",
    "        train_matrix = train_matrix.diagonal()/train_matrix.sum(axis=1)\n",
    "        test_matrix = confusion_matrix(y_amp_test, y_pred_test)\n",
    "        test_matrix = test_matrix.diagonal()/test_matrix.sum(axis=1)\n",
    "\n",
    "        other_metrics_train = precision_recall_fscore_support(y_amp_train, y_pred_train)\n",
    "        other_metrics_test = precision_recall_fscore_support(y_amp_test, y_pred_test)\n",
    "\n",
    "    else:\n",
    "        overall_train_acc = model.score(X_mel_train_flat, y_mel_train)\n",
    "        overall_test_acc = model.score(X_mel_test_flat, y_mel_test)\n",
    "\n",
    "        y_pred_train = model.predict(X_mel_train_flat)\n",
    "        y_pred_test = model.predict(X_mel_test_flat)\n",
    "\n",
    "        train_matrix = confusion_matrix(y_mel_train, y_pred_train)\n",
    "        train_matrix = train_matrix.diagonal()/train_matrix.sum(axis=1)\n",
    "        test_matrix = confusion_matrix(y_mel_test, y_pred_test)\n",
    "        test_matrix = test_matrix.diagonal()/test_matrix.sum(axis=1)\n",
    "\n",
    "        other_metrics_train = precision_recall_fscore_support(y_mel_train, y_pred_train)\n",
    "        other_metrics_test = precision_recall_fscore_support(y_mel_test, y_pred_test)\n",
    "\n",
    "    print('overall accuracy (train): ', overall_train_acc)\n",
    "    print('overall accuracy (test): ', overall_test_acc)\n",
    "    print('per-class accuracies (train): ', train_matrix)\n",
    "    print('per-class accuracies (test): ', test_matrix)\n",
    "    print('per-class precision, recall, f1, support (train): ', other_metrics_train)\n",
    "    print('per-class precision, recall, f1, support (test): ', other_metrics_test)\n"
   ]
  },
  {
   "cell_type": "code",
   "execution_count": 45,
   "metadata": {},
   "outputs": [],
   "source": [
    "'''\n",
    "Calculate overall accuracy, and per-class accuracy\n",
    "'''\n",
    "def calc_metrics(model, is_raw_amp=True):\n",
    "    if is_raw_amp:\n",
    "        X_test = X_amp_test\n",
    "        y_test = y_amp_test\n",
    "        X_train = X_amp_train\n",
    "        y_train = y_amp_train\n",
    "    else:\n",
    "        X_test = X_mel_test_flat\n",
    "        y_test = y_mel_test\n",
    "        X_train = X_mel_train_flat\n",
    "        y_train = y_mel_train\n",
    "\n",
    "    # Calculate overall accuracy\n",
    "    test_acc_overall = model.score(X_test, y_test)\n",
    "    train_acc_overall = model.score(X_train, y_train)\n",
    "\n",
    "    # Calculate per-class accuracy\n",
    "    y_pred_test = model.predict(X_test)\n",
    "    y_pred_train = model.predict(X_train)\n",
    "\n",
    "   # Calculate accuracy for each dataset using confusion matrix\n",
    "    cm_test = confusion_matrix(y_test, y_pred_test)\n",
    "    cm_train = confusion_matrix(y_train, y_pred_train)\n",
    "\n",
    "    test_acc_per_class = cm_test.diagonal()/cm_test.sum(axis=1)\n",
    "    train_acc_per_class = cm_train.diagonal()/cm_train.sum(axis=1)\n",
    "\n",
    "    classes = ['air_conditioner', 'car_horn', 'children_playing', 'dog_bark', 'drilling', 'engine_idling', 'gun_shot', 'jackhammer', 'siren', 'street_music']\n",
    "\n",
    "    # Display metrics using classes as labels\n",
    "\n",
    "    print(\"Overall accuracy on test set: {0:.4f}\".format(test_acc_overall))\n",
    "    print(\"Overall accuracy on train set: {0:.4f}\".format(train_acc_overall))\n",
    "\n",
    "    print(\"\\nPer-class accuracy on test set:\")\n",
    "    for i in range(len(classes)):\n",
    "        print(\"{0}: {1:.4f}\".format(classes[i], test_acc_per_class[i]))\n",
    "\n",
    "    print(\"\\nPer-class accuracy on train set:\")\n",
    "    for i in range(len(classes)):\n",
    "        print(\"{0}: {1:.4f}\".format(classes[i], train_acc_per_class[i]))\n",
    "        "
   ]
  },
  {
   "cell_type": "markdown",
   "metadata": {},
   "source": [
    "## Part A: Feature Engineering and Baseline Models"
   ]
  },
  {
   "cell_type": "markdown",
   "metadata": {},
   "source": [
    "### Raw Amplitude features"
   ]
  },
  {
   "cell_type": "code",
   "execution_count": 43,
   "metadata": {},
   "outputs": [
    {
     "data": {
      "text/html": [
       "<style>#sk-container-id-3 {color: black;background-color: white;}#sk-container-id-3 pre{padding: 0;}#sk-container-id-3 div.sk-toggleable {background-color: white;}#sk-container-id-3 label.sk-toggleable__label {cursor: pointer;display: block;width: 100%;margin-bottom: 0;padding: 0.3em;box-sizing: border-box;text-align: center;}#sk-container-id-3 label.sk-toggleable__label-arrow:before {content: \"▸\";float: left;margin-right: 0.25em;color: #696969;}#sk-container-id-3 label.sk-toggleable__label-arrow:hover:before {color: black;}#sk-container-id-3 div.sk-estimator:hover label.sk-toggleable__label-arrow:before {color: black;}#sk-container-id-3 div.sk-toggleable__content {max-height: 0;max-width: 0;overflow: hidden;text-align: left;background-color: #f0f8ff;}#sk-container-id-3 div.sk-toggleable__content pre {margin: 0.2em;color: black;border-radius: 0.25em;background-color: #f0f8ff;}#sk-container-id-3 input.sk-toggleable__control:checked~div.sk-toggleable__content {max-height: 200px;max-width: 100%;overflow: auto;}#sk-container-id-3 input.sk-toggleable__control:checked~label.sk-toggleable__label-arrow:before {content: \"▾\";}#sk-container-id-3 div.sk-estimator input.sk-toggleable__control:checked~label.sk-toggleable__label {background-color: #d4ebff;}#sk-container-id-3 div.sk-label input.sk-toggleable__control:checked~label.sk-toggleable__label {background-color: #d4ebff;}#sk-container-id-3 input.sk-hidden--visually {border: 0;clip: rect(1px 1px 1px 1px);clip: rect(1px, 1px, 1px, 1px);height: 1px;margin: -1px;overflow: hidden;padding: 0;position: absolute;width: 1px;}#sk-container-id-3 div.sk-estimator {font-family: monospace;background-color: #f0f8ff;border: 1px dotted black;border-radius: 0.25em;box-sizing: border-box;margin-bottom: 0.5em;}#sk-container-id-3 div.sk-estimator:hover {background-color: #d4ebff;}#sk-container-id-3 div.sk-parallel-item::after {content: \"\";width: 100%;border-bottom: 1px solid gray;flex-grow: 1;}#sk-container-id-3 div.sk-label:hover label.sk-toggleable__label {background-color: #d4ebff;}#sk-container-id-3 div.sk-serial::before {content: \"\";position: absolute;border-left: 1px solid gray;box-sizing: border-box;top: 0;bottom: 0;left: 50%;z-index: 0;}#sk-container-id-3 div.sk-serial {display: flex;flex-direction: column;align-items: center;background-color: white;padding-right: 0.2em;padding-left: 0.2em;position: relative;}#sk-container-id-3 div.sk-item {position: relative;z-index: 1;}#sk-container-id-3 div.sk-parallel {display: flex;align-items: stretch;justify-content: center;background-color: white;position: relative;}#sk-container-id-3 div.sk-item::before, #sk-container-id-3 div.sk-parallel-item::before {content: \"\";position: absolute;border-left: 1px solid gray;box-sizing: border-box;top: 0;bottom: 0;left: 50%;z-index: -1;}#sk-container-id-3 div.sk-parallel-item {display: flex;flex-direction: column;z-index: 1;position: relative;background-color: white;}#sk-container-id-3 div.sk-parallel-item:first-child::after {align-self: flex-end;width: 50%;}#sk-container-id-3 div.sk-parallel-item:last-child::after {align-self: flex-start;width: 50%;}#sk-container-id-3 div.sk-parallel-item:only-child::after {width: 0;}#sk-container-id-3 div.sk-dashed-wrapped {border: 1px dashed gray;margin: 0 0.4em 0.5em 0.4em;box-sizing: border-box;padding-bottom: 0.4em;background-color: white;}#sk-container-id-3 div.sk-label label {font-family: monospace;font-weight: bold;display: inline-block;line-height: 1.2em;}#sk-container-id-3 div.sk-label-container {text-align: center;}#sk-container-id-3 div.sk-container {/* jupyter's `normalize.less` sets `[hidden] { display: none; }` but bootstrap.min.css set `[hidden] { display: none !important; }` so we also need the `!important` here to be able to override the default hidden behavior on the sphinx rendered scikit-learn.org. See: https://github.com/scikit-learn/scikit-learn/issues/21755 */display: inline-block !important;position: relative;}#sk-container-id-3 div.sk-text-repr-fallback {display: none;}</style><div id=\"sk-container-id-3\" class=\"sk-top-container\"><div class=\"sk-text-repr-fallback\"><pre>LogisticRegression(max_iter=1000, tol=0.001)</pre><b>In a Jupyter environment, please rerun this cell to show the HTML representation or trust the notebook. <br />On GitHub, the HTML representation is unable to render, please try loading this page with nbviewer.org.</b></div><div class=\"sk-container\" hidden><div class=\"sk-item\"><div class=\"sk-estimator sk-toggleable\"><input class=\"sk-toggleable__control sk-hidden--visually\" id=\"sk-estimator-id-3\" type=\"checkbox\" checked><label for=\"sk-estimator-id-3\" class=\"sk-toggleable__label sk-toggleable__label-arrow\">LogisticRegression</label><div class=\"sk-toggleable__content\"><pre>LogisticRegression(max_iter=1000, tol=0.001)</pre></div></div></div></div></div>"
      ],
      "text/plain": [
       "LogisticRegression(max_iter=1000, tol=0.001)"
      ]
     },
     "execution_count": 43,
     "metadata": {},
     "output_type": "execute_result"
    }
   ],
   "source": [
    "classifier_raw = LogisticRegression(penalty='l2', tol = 10**-3, max_iter=1000)\n",
    "classifier_raw.fit(X_amp_train, y_amp_train)"
   ]
  },
  {
   "cell_type": "code",
   "execution_count": 42,
   "metadata": {},
   "outputs": [
    {
     "name": "stdout",
     "output_type": "stream",
     "text": [
      "Overall accuracy on test set: 0.1789\n",
      "Overall accuracy on train set: 0.9773\n",
      "\n",
      "Per-class accuracy on test set:\n",
      "air_conditioner: 0.2867\n",
      "car_horn: 0.0000\n",
      "children_playing: 0.3445\n",
      "dog_bark: 0.1223\n",
      "drilling: 0.0114\n",
      "engine_idling: 0.3068\n",
      "gun_shot: 0.0667\n",
      "jackhammer: 0.0424\n",
      "siren: 0.1398\n",
      "street_music: 0.1567\n",
      "\n",
      "Per-class accuracy on train set:\n",
      "air_conditioner: 0.9929\n",
      "car_horn: 0.9898\n",
      "children_playing: 0.9813\n",
      "dog_bark: 0.9503\n",
      "drilling: 0.9901\n",
      "engine_idling: 0.9764\n",
      "gun_shot: 0.9759\n",
      "jackhammer: 0.9954\n",
      "siren: 0.9416\n",
      "street_music: 0.9814\n"
     ]
    }
   ],
   "source": [
    "calc_metrics(classifier_raw, is_raw_amp=True)"
   ]
  },
  {
   "cell_type": "code",
   "execution_count": 39,
   "metadata": {},
   "outputs": [
    {
     "name": "stdout",
     "output_type": "stream",
     "text": [
      "overall accuracy (train):  0.9773095623987034\n",
      "overall accuracy (test):  0.17888029130632682\n",
      "per-class accuracies (train):  [0.99285714 0.98984772 0.98132184 0.95028681 0.99011532 0.97642164\n",
      " 0.97590361 0.99544073 0.94161677 0.98142857]\n",
      "per-class accuracies (test):  [0.28666667 0.         0.34448161 0.12227074 0.01136364 0.30681818\n",
      " 0.06666667 0.04237288 0.13983051 0.15666667]\n",
      "per-class precision, recall, f1, support (train):  (array([0.94173442, 1.        , 0.90824468, 1.        , 1.        ,\n",
      "       0.99858156, 1.        , 1.        , 0.97975078, 1.        ]), array([0.99285714, 0.98984772, 0.98132184, 0.95028681, 0.99011532,\n",
      "       0.97642164, 0.97590361, 0.99544073, 0.94161677, 0.98142857]), array([0.96662031, 0.99489796, 0.94337017, 0.9745098 , 0.99503311,\n",
      "       0.98737728, 0.98780488, 0.99771516, 0.96030534, 0.99062725]), array([700, 197, 696, 523, 607, 721,  83, 658, 668, 700]))\n",
      "per-class precision, recall, f1, support (test):  (array([0.16538462, 0.        , 0.18070175, 0.1686747 , 0.09677419,\n",
      "       0.253125  , 1.        , 0.12820513, 0.11148649, 0.22274882]), array([0.28666667, 0.        , 0.34448161, 0.12227074, 0.01136364,\n",
      "       0.30681818, 0.06666667, 0.04237288, 0.13983051, 0.15666667]), array([0.2097561 , 0.        , 0.23705409, 0.14177215, 0.02033898,\n",
      "       0.27739726, 0.125     , 0.06369427, 0.12406015, 0.18395303]), array([300,  39, 299, 229, 264, 264,  30, 236, 236, 300]))\n"
     ]
    }
   ],
   "source": [
    "get_metrics(classifier_raw, is_raw=True)"
   ]
  },
  {
   "cell_type": "markdown",
   "metadata": {},
   "source": [
    "### Mel Spectogram Features"
   ]
  },
  {
   "cell_type": "code",
   "execution_count": 22,
   "metadata": {},
   "outputs": [
    {
     "name": "stderr",
     "output_type": "stream",
     "text": [
      "/Users/adammo/Desktop/cs181-env/cs181-s23-homeworks/.venv/lib/python3.11/site-packages/sklearn/linear_model/_logistic.py:458: ConvergenceWarning: lbfgs failed to converge (status=1):\n",
      "STOP: TOTAL NO. of ITERATIONS REACHED LIMIT.\n",
      "\n",
      "Increase the number of iterations (max_iter) or scale the data as shown in:\n",
      "    https://scikit-learn.org/stable/modules/preprocessing.html\n",
      "Please also refer to the documentation for alternative solver options:\n",
      "    https://scikit-learn.org/stable/modules/linear_model.html#logistic-regression\n",
      "  n_iter_i = _check_optimize_result(\n"
     ]
    },
    {
     "data": {
      "text/html": [
       "<style>#sk-container-id-2 {color: black;background-color: white;}#sk-container-id-2 pre{padding: 0;}#sk-container-id-2 div.sk-toggleable {background-color: white;}#sk-container-id-2 label.sk-toggleable__label {cursor: pointer;display: block;width: 100%;margin-bottom: 0;padding: 0.3em;box-sizing: border-box;text-align: center;}#sk-container-id-2 label.sk-toggleable__label-arrow:before {content: \"▸\";float: left;margin-right: 0.25em;color: #696969;}#sk-container-id-2 label.sk-toggleable__label-arrow:hover:before {color: black;}#sk-container-id-2 div.sk-estimator:hover label.sk-toggleable__label-arrow:before {color: black;}#sk-container-id-2 div.sk-toggleable__content {max-height: 0;max-width: 0;overflow: hidden;text-align: left;background-color: #f0f8ff;}#sk-container-id-2 div.sk-toggleable__content pre {margin: 0.2em;color: black;border-radius: 0.25em;background-color: #f0f8ff;}#sk-container-id-2 input.sk-toggleable__control:checked~div.sk-toggleable__content {max-height: 200px;max-width: 100%;overflow: auto;}#sk-container-id-2 input.sk-toggleable__control:checked~label.sk-toggleable__label-arrow:before {content: \"▾\";}#sk-container-id-2 div.sk-estimator input.sk-toggleable__control:checked~label.sk-toggleable__label {background-color: #d4ebff;}#sk-container-id-2 div.sk-label input.sk-toggleable__control:checked~label.sk-toggleable__label {background-color: #d4ebff;}#sk-container-id-2 input.sk-hidden--visually {border: 0;clip: rect(1px 1px 1px 1px);clip: rect(1px, 1px, 1px, 1px);height: 1px;margin: -1px;overflow: hidden;padding: 0;position: absolute;width: 1px;}#sk-container-id-2 div.sk-estimator {font-family: monospace;background-color: #f0f8ff;border: 1px dotted black;border-radius: 0.25em;box-sizing: border-box;margin-bottom: 0.5em;}#sk-container-id-2 div.sk-estimator:hover {background-color: #d4ebff;}#sk-container-id-2 div.sk-parallel-item::after {content: \"\";width: 100%;border-bottom: 1px solid gray;flex-grow: 1;}#sk-container-id-2 div.sk-label:hover label.sk-toggleable__label {background-color: #d4ebff;}#sk-container-id-2 div.sk-serial::before {content: \"\";position: absolute;border-left: 1px solid gray;box-sizing: border-box;top: 0;bottom: 0;left: 50%;z-index: 0;}#sk-container-id-2 div.sk-serial {display: flex;flex-direction: column;align-items: center;background-color: white;padding-right: 0.2em;padding-left: 0.2em;position: relative;}#sk-container-id-2 div.sk-item {position: relative;z-index: 1;}#sk-container-id-2 div.sk-parallel {display: flex;align-items: stretch;justify-content: center;background-color: white;position: relative;}#sk-container-id-2 div.sk-item::before, #sk-container-id-2 div.sk-parallel-item::before {content: \"\";position: absolute;border-left: 1px solid gray;box-sizing: border-box;top: 0;bottom: 0;left: 50%;z-index: -1;}#sk-container-id-2 div.sk-parallel-item {display: flex;flex-direction: column;z-index: 1;position: relative;background-color: white;}#sk-container-id-2 div.sk-parallel-item:first-child::after {align-self: flex-end;width: 50%;}#sk-container-id-2 div.sk-parallel-item:last-child::after {align-self: flex-start;width: 50%;}#sk-container-id-2 div.sk-parallel-item:only-child::after {width: 0;}#sk-container-id-2 div.sk-dashed-wrapped {border: 1px dashed gray;margin: 0 0.4em 0.5em 0.4em;box-sizing: border-box;padding-bottom: 0.4em;background-color: white;}#sk-container-id-2 div.sk-label label {font-family: monospace;font-weight: bold;display: inline-block;line-height: 1.2em;}#sk-container-id-2 div.sk-label-container {text-align: center;}#sk-container-id-2 div.sk-container {/* jupyter's `normalize.less` sets `[hidden] { display: none; }` but bootstrap.min.css set `[hidden] { display: none !important; }` so we also need the `!important` here to be able to override the default hidden behavior on the sphinx rendered scikit-learn.org. See: https://github.com/scikit-learn/scikit-learn/issues/21755 */display: inline-block !important;position: relative;}#sk-container-id-2 div.sk-text-repr-fallback {display: none;}</style><div id=\"sk-container-id-2\" class=\"sk-top-container\"><div class=\"sk-text-repr-fallback\"><pre>LogisticRegression(max_iter=1000, random_state=0)</pre><b>In a Jupyter environment, please rerun this cell to show the HTML representation or trust the notebook. <br />On GitHub, the HTML representation is unable to render, please try loading this page with nbviewer.org.</b></div><div class=\"sk-container\" hidden><div class=\"sk-item\"><div class=\"sk-estimator sk-toggleable\"><input class=\"sk-toggleable__control sk-hidden--visually\" id=\"sk-estimator-id-2\" type=\"checkbox\" checked><label for=\"sk-estimator-id-2\" class=\"sk-toggleable__label sk-toggleable__label-arrow\">LogisticRegression</label><div class=\"sk-toggleable__content\"><pre>LogisticRegression(max_iter=1000, random_state=0)</pre></div></div></div></div></div>"
      ],
      "text/plain": [
       "LogisticRegression(max_iter=1000, random_state=0)"
      ]
     },
     "execution_count": 22,
     "metadata": {},
     "output_type": "execute_result"
    }
   ],
   "source": [
    "classifier_mel = LogisticRegression(random_state=0, tol = 10**-4, max_iter=1000)\n",
    "classifier_mel.fit(X_mel_train_flat, y_mel_train)"
   ]
  },
  {
   "cell_type": "code",
   "execution_count": 48,
   "metadata": {},
   "outputs": [
    {
     "name": "stdout",
     "output_type": "stream",
     "text": [
      "Overall accuracy on test set: 0.3669\n",
      "Overall accuracy on train set: 0.9755\n",
      "\n",
      "Per-class accuracy on test set:\n",
      "air_conditioner: 0.2867\n",
      "car_horn: 0.3333\n",
      "children_playing: 0.2308\n",
      "dog_bark: 0.1921\n",
      "drilling: 0.4583\n",
      "engine_idling: 0.4053\n",
      "gun_shot: 0.7000\n",
      "jackhammer: 0.4619\n",
      "siren: 0.7034\n",
      "street_music: 0.2333\n",
      "\n",
      "Per-class accuracy on train set:\n",
      "air_conditioner: 0.9771\n",
      "car_horn: 0.9898\n",
      "children_playing: 0.9598\n",
      "dog_bark: 0.9446\n",
      "drilling: 0.9885\n",
      "engine_idling: 0.9598\n",
      "gun_shot: 1.0000\n",
      "jackhammer: 0.9954\n",
      "siren: 0.9955\n",
      "street_music: 0.9729\n"
     ]
    }
   ],
   "source": [
    "calc_metrics(classifier_mel, is_raw_amp=False)"
   ]
  },
  {
   "cell_type": "code",
   "execution_count": null,
   "metadata": {},
   "outputs": [],
   "source": []
  }
 ],
 "metadata": {
  "kernelspec": {
   "display_name": "Python 3.11.2 ('.venv': venv)",
   "language": "python",
   "name": "python3"
  },
  "language_info": {
   "codemirror_mode": {
    "name": "ipython",
    "version": 3
   },
   "file_extension": ".py",
   "mimetype": "text/x-python",
   "name": "python",
   "nbconvert_exporter": "python",
   "pygments_lexer": "ipython3",
   "version": "3.11.2"
  },
  "orig_nbformat": 4,
  "vscode": {
   "interpreter": {
    "hash": "78b580f2900286d3accb634676bf73e6158b3c15d83945387503493fe370dbb7"
   }
  }
 },
 "nbformat": 4,
 "nbformat_minor": 2
}
