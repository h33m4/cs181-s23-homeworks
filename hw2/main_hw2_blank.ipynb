{
 "cells": [
  {
   "cell_type": "markdown",
   "metadata": {
    "collapsed": true
   },
   "source": [
    "# Homework 2\n",
    "\n",
    "**The following notebook is meant to help you work through Problems 1 and 3 on Homework 2. You are by no means required to use it, nor are you required to fill out/use any of the boilerplate code/functions. You are welcome to implement the functions however you wish.**\n"
   ]
  },
  {
   "cell_type": "code",
   "execution_count": 31,
   "metadata": {},
   "outputs": [],
   "source": [
    "# loading data\n",
    "\n",
    "import numpy as np\n",
    "import pandas as pd\n",
    "import matplotlib.pyplot as plt\n",
    "import matplotlib.colors as c\n",
    "import matplotlib.patches as mpatches\n",
    "from scipy.special import expit as sigmoid\n",
    "from scipy.special import softmax\n",
    "from scipy.special import logsumexp\n",
    "\n",
    "# data for Problem 1\n",
    "t_obs, y_obs = np.genfromtxt(\"data/planet-obs.csv\", delimiter = ',').T\n",
    "t_obs = np.split(t_obs, 10)\n",
    "y_obs = np.split(y_obs.reshape(-1, 1), 10)\n",
    "\n",
    "# data for Problem 3\n",
    "data = pd.read_csv(\"data/hr.csv\")\n",
    "mapper = {\n",
    "    \"Dwarf\": 0,\n",
    "    \"Giant\": 1,\n",
    "    \"Supergiant\": 2\n",
    "}\n",
    "data['Type'] = data['Type'].map(mapper)\n",
    "\n",
    "X_stars = data[['Magnitude', 'Temperature']].values\n",
    "y_stars = data['Type'].values\n",
    "\n",
    "from T2_P1_TestCases import test_p1\n",
    "from T2_P3_TestCases import test_p3_softmax, test_p3_knn"
   ]
  },
  {
   "cell_type": "markdown",
   "metadata": {},
   "source": [
    "# Problem 1"
   ]
  },
  {
   "cell_type": "markdown",
   "metadata": {},
   "source": [
    "## Problem 1 Subpart 1"
   ]
  },
  {
   "cell_type": "code",
   "execution_count": 1,
   "metadata": {},
   "outputs": [],
   "source": [
    "def basis1(t):\n",
    "    return np.stack([np.ones(len(t)), t], axis=1)\n",
    "\n",
    "def basis2(t):\n",
    "    \"\"\"\n",
    "    Transform t into basis [1, t, t^2]\n",
    "\n",
    "    :param t: a 1D numpy array of values to transform. Shape is (n,)\n",
    "    :return: a 2D array in which each row corresponds to a basis transformation of\n",
    "             an input value. Shape should be (n x 3)\n",
    "    \"\"\"\n",
    "    return np.stack([np.ones(len(t)), t, t**2], axis=1)\n",
    "\n",
    "def basis3(t):\n",
    "    \"\"\"\n",
    "    Transform t into basis [1, t, t^2, t^3, t^4, t^5]\n",
    "\n",
    "    :param t: a numpy array of values to transform. Shape is (n,)\n",
    "    :return: a 2D array in which each row corresponds to a basis transformation of\n",
    "             an input value. Shape should be (n x 6)\n",
    "    \"\"\"\n",
    "    return np.stack([np.ones(len(t)), t, t**2, t**3, t**4, t**5], axis=1)"
   ]
  },
  {
   "cell_type": "code",
   "execution_count": 27,
   "metadata": {},
   "outputs": [],
   "source": [
    "class LogisticRegressor:\n",
    "    def __init__(self, eta, runs):\n",
    "        self.eta = eta\n",
    "        self.runs = runs\n",
    "        self.W = None\n",
    "\n",
    "    def _gradient(self, x, y):\n",
    "        \"\"\"\n",
    "        Compute the gradient of the negative log-likelihood with respect to W\n",
    "\n",
    "        :param x: a 2D numpy array of transformed feature values. Shape is (n x 2), (n x 3), or (n x 6)\n",
    "        :param y: a 2D numpy array of output values. Shape is (n x 1)\n",
    "        :return: a 2D numpy array of gradient values. Shape should be (d x 1)\n",
    "        \"\"\"\n",
    "        return np.dot(x.T, self.predict(x) - y)\n",
    "\n",
    "    def fit(self, x, y, w_init):\n",
    "        \"\"\"\n",
    "        Optimize the weights W to minimize the negative log-likelihood by using gradient descent\n",
    "\n",
    "        :param x: a 2D numpy array of transformed feature values. Shape is (n x 2), (n x 3), or (n x 6)\n",
    "        :param y: a 2D numpy array of output values. Shape is (n x 1)\n",
    "        :param w_init: a 2D numpy array that initializes the weights. Shape is (d x 1)\n",
    "        :return: None\n",
    "        \"\"\"\n",
    "        # Keep this for the autograder\n",
    "        self.W = w_init\n",
    "        \n",
    "        for _ in range(self.runs):\n",
    "            self.W -= self.eta * (1/len(x)) * self._gradient(x, y)\n",
    "\n",
    "    def predict(self, x):\n",
    "        \"\"\"\n",
    "        Predict classification probability of transformed input x\n",
    "        \n",
    "        :param x: a 2D numpy array of transformed feature values. Shape is (n x 2), (n x 3), or (n x 6)\n",
    "        :return: a 2D numpy array of predicted probabilities given current weights. Shape should be (n x 1)\n",
    "        \"\"\"\n",
    "        return sigmoid(np.dot(x, self.W))"
   ]
  },
  {
   "cell_type": "code",
   "execution_count": 28,
   "metadata": {},
   "outputs": [
    {
     "name": "stdout",
     "output_type": "stream",
     "text": [
      "Your test case results are, for basis 1, 2, and 3 respectively: Pass Pass Pass\n"
     ]
    }
   ],
   "source": [
    "test_p1(LogisticRegressor, basis1, basis2, basis3)"
   ]
  },
  {
   "cell_type": "markdown",
   "metadata": {},
   "source": [
    "## Plotting Functions for Problem 1, Subpart 2"
   ]
  },
  {
   "cell_type": "code",
   "execution_count": 32,
   "metadata": {},
   "outputs": [],
   "source": [
    "# Function to visualize prediction lines\n",
    "# Takes as input last_x, last_y, [list of models], basis function, title\n",
    "# last_x and last_y should specifically be the dataset that the last model\n",
    "# in [list of models] was trained on\n",
    "def visualize_prediction_lines(last_x, last_y, models, basis, title):\n",
    "    # Plot setup\n",
    "    green = mpatches.Patch(color='green', label='Ground truth model')\n",
    "    black = mpatches.Patch(color='black', label='Mean of learned models')\n",
    "    purple = mpatches.Patch(color='purple', label='Model learned from displayed dataset')\n",
    "    plt.legend(handles=[green, black, purple], loc='lower right')\n",
    "    plt.title(title)\n",
    "    plt.xlabel('Time')\n",
    "    plt.ylabel('Observed')\n",
    "    plt.axis([0, 6, -.1, 1.1]) # Plot ranges\n",
    "\n",
    "    # Plot dataset that last model in models (models[-1]) was trained on\n",
    "    cmap = c.ListedColormap(['r', 'b'])\n",
    "    plt.scatter(last_x, last_y, c=last_y, cmap=cmap, linewidths=1, edgecolors='black')\n",
    "\n",
    "    # Plot models\n",
    "    X_pred = np.linspace(0, 6, 1000)\n",
    "    X_pred_transformed = basis(X_pred)\n",
    "\n",
    "    ## Ground truth model\n",
    "    plt.plot(X_pred, np.cos(1.1*X_pred + 1) * 0.4 + 0.5, 'g', linewidth=5)\n",
    "\n",
    "    ## Individual learned logistic regressor models\n",
    "    Y_hats = []\n",
    "    for i in range(len(models)):\n",
    "        model = models[i]\n",
    "        Y_hat = model.predict(X_pred_transformed)\n",
    "        Y_hats.append(Y_hat)\n",
    "        if i < len(models) - 1:\n",
    "            plt.plot(X_pred, Y_hat, linewidth=.3)\n",
    "        else:\n",
    "            plt.plot(X_pred, Y_hat, 'purple', linewidth=3)\n",
    "\n",
    "    # Mean / expectation of learned models over all datasets\n",
    "    plt.plot(X_pred, np.mean(Y_hats, axis=0), 'k', linewidth=5)\n",
    "\n",
    "    plt.savefig(title + '.png')\n",
    "    plt.show()"
   ]
  },
  {
   "cell_type": "code",
   "execution_count": 42,
   "metadata": {},
   "outputs": [
    {
     "name": "stdout",
     "output_type": "stream",
     "text": [
      "Probability of y=1 at t=0.1 for first model: [[0.51980163]]\n",
      "Variance of probability of y=1 at t=0.1 over 10 models: 0.0033799686342998484\n",
      "Mean of probability of y=1 at t=0.1 over 10 models: 0.48199564197174494\n",
      "Probability of y=1 at t=3.2 for first model: [[6.59117119e-11]]\n",
      "Variance of probability of y=1 at t=3.2 over 10 models: 0.2289431943623383\n",
      "Mean of probability of y=1 at t=3.2 over 10 models: 0.4171028850659888\n"
     ]
    },
    {
     "data": {
      "image/png": "[encoded data removed]",
      "text/plain": [
       "<Figure size 640x480 with 1 Axes>"
      ]
     },
     "metadata": {},
     "output_type": "display_data"
    }
   ],
   "source": [
    "# You may find it helpful to modify this function for Problem 1, Subpart 4,\n",
    "# but do not change the existing code--add your own variables\n",
    "def plot_results(basis, title):\n",
    "    eta = 0.001\n",
    "    runs = 10000\n",
    "\n",
    "    preds_tp1 = []\n",
    "    preds_tp2 = []\n",
    "\n",
    "    all_models = []\n",
    "    for i in range(10):\n",
    "        x, y = t_obs[i], y_obs[i]\n",
    "        x_transformed = basis(x)\n",
    "        model = LogisticRegressor(eta=eta, runs=runs)\n",
    "        model.fit(x_transformed, y, np.zeros((x_transformed.shape[1], 1)))\n",
    "        all_models.append(model)\n",
    "\n",
    "        # Calculate predicted probability at t=0.1 and t=3.2 for all 10 models\n",
    "        # and store them in preds_tp1 and preds_tp2, respectively\n",
    "        preds_tp1.append(model.predict(basis(np.array([0.1]))))\n",
    "        preds_tp2.append(model.predict(basis(np.array([3.2]))))\n",
    "\n",
    "    \n",
    "    # For the first model, calculate predicted probability at t=0.1\n",
    "    print(\"Probability of y=1 at t=0.1 for first model: \" + str(preds_tp1[0]))\n",
    "    # then calculate the variance of this prediction over the 10 models\n",
    "    print(\"Variance of probability of y=1 at t=0.1 over 10 models: \" + str(np.var(preds_tp1)))\n",
    "    # and the mean of this prediction over the 10 models\n",
    "    print(\"Mean of probability of y=1 at t=0.1 over 10 models: \" + str(np.mean(preds_tp1)))\n",
    "    \n",
    "    # For the second model, calculate predicted probability at t=3.2\n",
    "    print(\"Probability of y=1 at t=3.2 for first model: \" + str(preds_tp2[0]))\n",
    "    # then calculate the variance of this prediction over the 10 models\n",
    "    print(\"Variance of probability of y=1 at t=3.2 over 10 models: \" + str(np.var(preds_tp2)))\n",
    "    print(\"Mean of probability of y=1 at t=3.2 over 10 models: \" + str(np.mean(preds_tp2)))\n",
    "    \n",
    "\n",
    "    visualize_prediction_lines(x, y, all_models, basis, title)\n",
    "\n",
    "plot_results(basis3, 'basis3')"
   ]
  },
  {
   "cell_type": "code",
   "execution_count": 36,
   "metadata": {},
   "outputs": [
    {
     "ename": "ValueError",
     "evalue": "shapes (1,6) and (2,1) not aligned: 6 (dim 1) != 2 (dim 0)",
     "output_type": "error",
     "traceback": [
      "\u001b[0;31m---------------------------------------------------------------------------\u001b[0m",
      "\u001b[0;31mValueError\u001b[0m                                Traceback (most recent call last)",
      "Cell \u001b[0;32mIn[36], line 1\u001b[0m\n\u001b[0;32m----> 1\u001b[0m plot_results(basis1, \u001b[39m'\u001b[39;49m\u001b[39mbasis1\u001b[39;49m\u001b[39m'\u001b[39;49m)\n\u001b[1;32m      2\u001b[0m plot_results(basis2, \u001b[39m'\u001b[39m\u001b[39mbasis2\u001b[39m\u001b[39m'\u001b[39m)\n\u001b[1;32m      3\u001b[0m plot_results(basis3, \u001b[39m'\u001b[39m\u001b[39mbasis3\u001b[39m\u001b[39m'\u001b[39m)\n",
      "Cell \u001b[0;32mIn[35], line 18\u001b[0m, in \u001b[0;36mplot_results\u001b[0;34m(basis, title)\u001b[0m\n\u001b[1;32m     13\u001b[0m     all_models\u001b[39m.\u001b[39mappend(model)\n\u001b[1;32m     16\u001b[0m \u001b[39m# For the first model, calculate predicted probability at t=0.1\u001b[39;00m\n\u001b[1;32m     17\u001b[0m \u001b[39m# and print it to the console\u001b[39;00m\n\u001b[0;32m---> 18\u001b[0m y_0_1 \u001b[39m=\u001b[39m all_models[\u001b[39m0\u001b[39;49m]\u001b[39m.\u001b[39;49mpredict(basis3(np\u001b[39m.\u001b[39;49marray([\u001b[39m0.1\u001b[39;49m])))[\u001b[39m0\u001b[39m][\u001b[39m0\u001b[39m]\n\u001b[1;32m     19\u001b[0m \u001b[39mprint\u001b[39m(\u001b[39m\"\u001b[39m\u001b[39mProbability of y=1 at t=0.1 for first model: \u001b[39m\u001b[39m\"\u001b[39m \u001b[39m+\u001b[39m \u001b[39mstr\u001b[39m(y_0_1))\n\u001b[1;32m     21\u001b[0m \u001b[39m# \u001b[39;00m\n",
      "Cell \u001b[0;32mIn[27], line 40\u001b[0m, in \u001b[0;36mLogisticRegressor.predict\u001b[0;34m(self, x)\u001b[0m\n\u001b[1;32m     33\u001b[0m \u001b[39mdef\u001b[39;00m \u001b[39mpredict\u001b[39m(\u001b[39mself\u001b[39m, x):\n\u001b[1;32m     34\u001b[0m \u001b[39m    \u001b[39m\u001b[39m\"\"\"\u001b[39;00m\n\u001b[1;32m     35\u001b[0m \u001b[39m    Predict classification probability of transformed input x\u001b[39;00m\n\u001b[1;32m     36\u001b[0m \u001b[39m    \u001b[39;00m\n\u001b[1;32m     37\u001b[0m \u001b[39m    :param x: a 2D numpy array of transformed feature values. Shape is (n x 2), (n x 3), or (n x 6)\u001b[39;00m\n\u001b[1;32m     38\u001b[0m \u001b[39m    :return: a 2D numpy array of predicted probabilities given current weights. Shape should be (n x 1)\u001b[39;00m\n\u001b[1;32m     39\u001b[0m \u001b[39m    \"\"\"\u001b[39;00m\n\u001b[0;32m---> 40\u001b[0m     \u001b[39mreturn\u001b[39;00m sigmoid(np\u001b[39m.\u001b[39;49mdot(x, \u001b[39mself\u001b[39;49m\u001b[39m.\u001b[39;49mW))\n",
      "File \u001b[0;32m<__array_function__ internals>:200\u001b[0m, in \u001b[0;36mdot\u001b[0;34m(*args, **kwargs)\u001b[0m\n",
      "\u001b[0;31mValueError\u001b[0m: shapes (1,6) and (2,1) not aligned: 6 (dim 1) != 2 (dim 0)"
     ]
    }
   ],
   "source": [
    "plot_results(basis1, 'basis1')\n",
    "plot_results(basis2, 'basis2')\n",
    "plot_results(basis3, 'basis3')"
   ]
  },
  {
   "cell_type": "markdown",
   "metadata": {},
   "source": [
    "# Problem 3"
   ]
  },
  {
   "cell_type": "code",
   "execution_count": null,
   "metadata": {},
   "outputs": [],
   "source": [
    "class SoftmaxRegression:\n",
    "    def __init__(self, eta, lam):\n",
    "        self.eta = eta\n",
    "        self.lam = lam\n",
    "        self.W = None\n",
    "\n",
    "    def fit(self, X, y):\n",
    "        \"\"\"\n",
    "        Fit the weights W of softmax regression using gradient descent with L2 regularization\n",
    "        in the form (lambda/2) * norm(w)^2\n",
    "        Use the results from Problem 2 to find an expression for the gradient\n",
    "        \n",
    "        :param X: a 2D numpy array of (transformed) feature values. Shape is (n x 2)\n",
    "        :param y: a 1D numpy array of target values (Dwarf=0, Giant=1, Supergiant=2).\n",
    "        :return: None\n",
    "        \"\"\"\n",
    "        # Initializing the weights (do not change!)\n",
    "        # The number of classes is 1 + (the highest numbered class)\n",
    "        num_classes = 1 + y.max()\n",
    "        num_features = X.shape[1]\n",
    "        self.W = np.ones((num_classes, num_features))\n",
    "        # TODO\n",
    "        pass\n",
    "\n",
    "    def predict(self, X_pred):\n",
    "        \"\"\"\n",
    "        The code in this method should be removed and replaced! We included it\n",
    "        just so that the distribution code is runnable and produces a\n",
    "        (currently meaningless) visualization.\n",
    "        \n",
    "        Predict classes of points given feature values in X_pred\n",
    "        \n",
    "        :param X_pred: a 2D numpy array of (transformed) feature values. Shape is (n x 2)\n",
    "        :return: a 1D numpy array of predicted classes (Dwarf=0, Giant=1, Supergiant=2).\n",
    "                 Shape should be (n,)\n",
    "        \"\"\"\n",
    "        # TODO\n",
    "        preds = []\n",
    "        for x in X_pred:\n",
    "            z = np.cos(x ** 2).sum()\n",
    "            preds.append(1 + np.sign(z) * (np.abs(z) > 0.3))\n",
    "        return np.array(preds)\n",
    "    \n",
    "    def predict_proba(self, X_pred):\n",
    "        \"\"\"    \n",
    "        Predict classification probabilities of points given feature values in X_pred\n",
    "        \n",
    "        :param X_pred: a 2D numpy array of (transformed) feature values. Shape is (n x 2)\n",
    "        :return: a 2D numpy array of predicted class probabilities (Dwarf=index 0, Giant=index 1, Supergiant=index 2).\n",
    "                 Shape should be (n x 3)\n",
    "        \"\"\"\n",
    "        # TODO\n",
    "        pass"
   ]
  },
  {
   "cell_type": "code",
   "execution_count": null,
   "metadata": {},
   "outputs": [],
   "source": [
    "class KNNClassifier:\n",
    "    def __init__(self, k):\n",
    "        self.X = None\n",
    "        self.y = None\n",
    "        self.K = k\n",
    "        \n",
    "    def fit(self, X, y):\n",
    "        \"\"\"\n",
    "        In KNN, \"fitting\" can be as simple as storing the data, so this has been written for you.\n",
    "        If you'd like to add some preprocessing here without changing the inputs, feel free,\n",
    "        but this is completely optional.\n",
    "        \"\"\"\n",
    "        self.X = X\n",
    "        self.y = y\n",
    "\n",
    "    def predict(self, X_pred):\n",
    "        \"\"\"\n",
    "        The code in this method should be removed and replaced! We included it\n",
    "        just so that the distribution code is runnable and produces a\n",
    "        (currently meaningless) visualization.\n",
    "        \n",
    "        Predict classes of points given feature values in X_pred\n",
    "        \n",
    "        :param X_pred: a 2D numpy array of (transformed) feature values. Shape is (n x 2)\n",
    "        :return: a 1D numpy array of predicted classes (Dwarf=0, Giant=1, Supergiant=2).\n",
    "                 Shape should be (n,)\n",
    "        \"\"\"\n",
    "        # TODO\n",
    "        preds = []\n",
    "        for x in X_pred:\n",
    "            z = np.cos(x ** 2).sum()\n",
    "            preds.append(1 + np.sign(z) * (np.abs(z) > 0.3))\n",
    "        return np.array(preds)"
   ]
  },
  {
   "cell_type": "code",
   "execution_count": null,
   "metadata": {},
   "outputs": [],
   "source": [
    "def phi(X):\n",
    "    \"\"\"\n",
    "    Transform [x_1, x_2] into basis [ln(x_1 + 10), x_2^2]\n",
    "\n",
    "    :param t: a 2D numpy array of values to transform. Shape is (n x 2)\n",
    "    :return: a 2D array in which each row corresponds to a basis transformation of\n",
    "             an input value. Shape should be (n x 2)\n",
    "    \"\"\"\n",
    "    # TODO\n",
    "    pass"
   ]
  },
  {
   "cell_type": "markdown",
   "metadata": {},
   "source": [
    "## Plotting Function for Problem 3, Subpart 1"
   ]
  },
  {
   "cell_type": "code",
   "execution_count": null,
   "metadata": {},
   "outputs": [],
   "source": [
    "# Visualize the decision boundary that a model produces\n",
    "def visualize_boundary(model, X, y, title, basis=None, width=2):\n",
    "    # Create a grid of points\n",
    "    x_min, x_max = min(X[:, 0] - width), max(X[:, 0] + width)\n",
    "    y_min, y_max = min(X[:, 1] - width), max(X[:, 1] + width)\n",
    "    xx, yy = np.meshgrid(\n",
    "        np.arange(x_min, x_max, 0.05),\n",
    "        np.arange(y_min, y_max, 0.05)\n",
    "    )\n",
    "\n",
    "    # Flatten the grid so the values match spec for self.predict\n",
    "    xx_flat = xx.flatten()\n",
    "    yy_flat = yy.flatten()\n",
    "    X_pred = np.vstack((xx_flat, yy_flat)).T\n",
    "    \n",
    "    if basis is not None:\n",
    "        X_pred = basis(X_pred)\n",
    "\n",
    "    # Get the class predictions\n",
    "    Y_hat = model.predict(X_pred)\n",
    "    Y_hat = Y_hat.reshape((xx.shape[0], xx.shape[1]))\n",
    "\n",
    "    # Visualize them.\n",
    "    cmap = c.ListedColormap(['r', 'b', 'g'])\n",
    "    plt.figure()\n",
    "    plt.title(title)\n",
    "    plt.xlabel('Magnitude')\n",
    "    plt.ylabel('Temperature')\n",
    "    plt.pcolormesh(xx, yy, Y_hat, cmap=cmap, alpha=0.3)\n",
    "    plt.scatter(X[:, 0], X[:, 1], c=y, cmap=cmap, linewidths=1,\n",
    "                edgecolors='black')\n",
    "\n",
    "    # Adding a legend and a title\n",
    "    red = mpatches.Patch(color='red', label='Dwarf')\n",
    "    blue = mpatches.Patch(color='blue', label='Giant')\n",
    "    green = mpatches.Patch(color='green', label='Supergiant')\n",
    "    plt.legend(handles=[red, blue, green])\n",
    "\n",
    "    # Saving the image to a file, and showing it as well\n",
    "    plt.savefig(title + '.png')\n",
    "    plt.show()"
   ]
  },
  {
   "cell_type": "markdown",
   "metadata": {},
   "source": [
    "## Problem 3, Subpart 1"
   ]
  },
  {
   "cell_type": "code",
   "execution_count": null,
   "metadata": {},
   "outputs": [],
   "source": [
    "# Example of fitting a model and visualizing the decision boundaries;\n",
    "# do this for each of the four models\n",
    "softmax_model = SoftmaxRegression(eta=0.001, lam=0.001)\n",
    "softmax_model.fit(X_stars, y_stars)\n",
    "visualize_boundary(model=softmax_model,\n",
    "                   X=X_stars,\n",
    "                   y=y_stars,\n",
    "                   title='softmax_regression_result',\n",
    "                   basis=None)"
   ]
  },
  {
   "cell_type": "code",
   "execution_count": null,
   "metadata": {},
   "outputs": [],
   "source": [
    "# test your models by passing your fitted models into the functions below\n",
    "# softmax_model is an instance of class SoftmaxRegression fitted to data X_stars, y_stars\n",
    "# basis_model is an instance of class SoftmaxRegression fitted to data phi(X_stars), y_stars\n",
    "# knn1_model is an instance of class KNNClassifier with parameter k=1\n",
    "# knn5_model is an instance of class KNNClassifier with parameter k=5\n",
    "test_p3_softmax(softmax_model, basis_model)\n",
    "test_p3_knn(knn1_model, knn5_model)"
   ]
  },
  {
   "cell_type": "code",
   "execution_count": null,
   "metadata": {},
   "outputs": [],
   "source": []
  }
 ],
 "metadata": {
  "kernelspec": {
   "display_name": "Python 3.9.6 ('cs181-env': venv)",
   "language": "python",
   "name": "python3"
  },
  "language_info": {
   "codemirror_mode": {
    "name": "ipython",
    "version": 3
   },
   "file_extension": ".py",
   "mimetype": "text/x-python",
   "name": "python",
   "nbconvert_exporter": "python",
   "pygments_lexer": "ipython3",
   "version": "3.9.6"
  },
  "vscode": {
   "interpreter": {
    "hash": "9acccac1b623c4c7e358b3e93eab35624a332c95192984cd9e0836b1a9010777"
   }
  }
 },
 "nbformat": 4,
 "nbformat_minor": 1
}
